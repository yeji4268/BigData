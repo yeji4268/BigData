{
 "cells": [
  {
   "cell_type": "markdown",
   "id": "e009e8d8",
   "metadata": {},
   "source": [
    "# [항공기 결항 및 지연 요인 분석]\n",
    "\n",
    "#### 학과 : 컴퓨터정보과   학번 : 202044050   이름 : 김예지\n",
    "\n",
    "---\n",
    "\n",
    "## 목차\n",
    "1. [분석 개요](#1.분석-개요)\n",
    "2. [데이터 수집](#2.데이터-수집)\n",
    "3. [데이터 전처리](#3.데이터-전처리)\n",
    "4. [데이터 분석](#4.데이터-분석)\n",
    "5. [데이터 시각화](#5.데이터-시각화)\n",
    "6. [분석 결과](#6.분석-결과)\n",
    "\n",
    "---\n",
    "chrome driver version : 106.0.5249.61<br>\n",
    "*현재 사용중인 chrome 브라우저의 버전을 따름"
   ]
  },
  {
   "cell_type": "markdown",
   "id": "8f3f0915",
   "metadata": {},
   "source": [
    "### 공항 코드\n",
    "|공항|코드|\n",
    "|-|-|\n",
    "|인천공항|RKSI|\n",
    "|김포공항|RKSS|\n",
    "|제주공항|RKPC|\n",
    "|무안공항|RKJB|\n",
    "|울산공항|RKPU|\n",
    "|여수공항|RKJY|\n",
    "|양양공항|RKNY|\n",
    "\n",
    "### 날씨 요소 속성\n",
    "|속성 번호|속성|\n",
    "|:-:|:-:|\n",
    "|0|풍향|\n",
    "|1|풍속|\n",
    "|2|시정|\n",
    "|3|전운량|\n",
    "|4|최저운고|\n",
    "|5|기온|\n",
    "|6|강수량|\n",
    "|7|적설|\n",
    "|8|신적설|\n",
    "\n",
    "### 기상 용어\n",
    "|용어|설명|단위|\n",
    "|:-:|:-:|:-:|\n",
    "|풍향|바람의 방향|10 deg|\n",
    "|풍속|바람의 속도|KT|\n",
    "|시정|눈에 보이는 최대 거리|10 m|\n",
    "|전운량|구름이 하늘을 덮고 있는 정도|okta|\n",
    "|최저운고|가장 낮은 구름의 높이|100 ft|\n",
    "|기온|공기의 온도|℃|\n",
    "|강수량|비, 눈, 우박 등이 지상에 내린 물의 총량|mm|\n",
    "|적설|전부터 내려 녹지 않고 쌓여 있을 눈을 포함한 눈의 두께|0.1 cm|\n",
    "|신적설|전에 내렸던 눈은 제거하고, 새롭게 쌓인 눈의 두께|0.1 cm|"
   ]
  },
  {
   "cell_type": "code",
   "execution_count": null,
   "id": "0d3c721e",
   "metadata": {},
   "outputs": [],
   "source": [
    "import pandas as pd\n",
    "\n",
    "#데이터 수집 : 시간별 기상 데이터 크롤링\n",
    "url1 = \"https://amo.kma.go.kr/weather/stat/stat-hourly.do?stnCd=\"\n",
    "airports = ['RKSI', 'RKSS', 'RKPC', 'RKJB', 'RKPU', 'RKJY', 'RKNY']\n",
    "url2 = \"&year=\"\n",
    "years = [2017, 2018, 2019, 2020, 2021]\n",
    "url3 = \"&month=\"\n",
    "months = [1, 2, 3, 4, 5, 6, 7, 8, 9, 10, 11, 12]\n",
    "url4 = \"&ele=\"\n",
    "elements = [0, 1, 2, 3, 4, 5, 6, 7, 8]\n",
    "\n",
    "for a in airports:\n",
    "    for e in elements:\n",
    "        df = pd.DataFrame()\n",
    "        for y in years:\n",
    "            for m in months:\n",
    "                df1 = pd.read_html(url1 + a + url2 + str(y) + url3 + str(m) + url4 + str(e))[0]\n",
    "                df = pd.concat([df, df1])\n",
    "            df.to_csv(\"C:/Data/weather/\" + a + \"/\" + str(e) + \"/\" + str(y) + \".csv\")\n",
    "            print(f\"file : C:/Data/weather/{a}/{str(e)}/{str(y)}.csv\")"
   ]
  }
 ],
 "metadata": {
  "kernelspec": {
   "display_name": "Python 3 (ipykernel)",
   "language": "python",
   "name": "python3"
  },
  "language_info": {
   "codemirror_mode": {
    "name": "ipython",
    "version": 3
   },
   "file_extension": ".py",
   "mimetype": "text/x-python",
   "name": "python",
   "nbconvert_exporter": "python",
   "pygments_lexer": "ipython3",
   "version": "3.9.7"
  }
 },
 "nbformat": 4,
 "nbformat_minor": 5
}
