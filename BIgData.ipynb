{
 "cells": [
  {
   "cell_type": "markdown",
   "id": "e009e8d8",
   "metadata": {},
   "source": [
    "# [항공기 결항 및 지연 요인 분석]\n",
    "\n",
    "##### 학과 : 컴퓨터정보과 | 학번 : 202044050 | 이름 : 김예지\n",
    "\n",
    "---\n",
    "\n",
    "## 목차\n",
    "1. [분석 개요](#1.분석-개요)\n",
    "2. [데이터 수집](#2.데이터-수집)\n",
    "3. [데이터 전처리](#3.데이터-전처리)\n",
    "4. [데이터 분석](#4.데이터-분석)\n",
    "    4.1. 가설 설정\n",
    "    4.2. \n",
    "5. [데이터 시각화](#5.데이터-시각화)\n",
    "6. [분석 결과](#6.분석-결과)\n",
    "\n",
    "---\n",
    "chrome driver version : 106.0.5249.61<br>\n",
    "*현재 사용중인 chrome 브라우저의 버전을 따름\n",
    "\n",
    "---\n",
    "1.분석 개요<br>\n",
    "    1.1. 개요<br>\n",
    "    1.2. 효과<br>\n",
    "\n",
    "\n"
   ]
  },
  {
   "cell_type": "code",
   "execution_count": null,
   "id": "bba1e913",
   "metadata": {},
   "outputs": [],
   "source": []
  }
 ],
 "metadata": {
  "kernelspec": {
   "display_name": "Python 3 (ipykernel)",
   "language": "python",
   "name": "python3"
  },
  "language_info": {
   "codemirror_mode": {
    "name": "ipython",
    "version": 3
   },
   "file_extension": ".py",
   "mimetype": "text/x-python",
   "name": "python",
   "nbconvert_exporter": "python",
   "pygments_lexer": "ipython3",
   "version": "3.9.7"
  }
 },
 "nbformat": 4,
 "nbformat_minor": 5
}
