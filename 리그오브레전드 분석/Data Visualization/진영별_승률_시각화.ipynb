{
 "cells": [
  {
   "cell_type": "markdown",
   "id": "8fba72d4",
   "metadata": {},
   "source": [
    "# 진영별 승률 시각화\n",
    "---\n",
    "## 사용 라이브러리"
   ]
  },
  {
   "cell_type": "code",
   "execution_count": 1,
   "id": "456d8ea6",
   "metadata": {},
   "outputs": [],
   "source": [
    "import plotly.graph_objects as go\n",
    "from ipywidgets import widgets\n",
    "import plotly.express as px\n",
    "import pandas as pd\n",
    "import numpy as np"
   ]
  },
  {
   "cell_type": "code",
   "execution_count": 13,
   "id": "4ee7b3b0",
   "metadata": {},
   "outputs": [
    {
     "data": {
      "text/html": [
       "<div>\n",
       "<style scoped>\n",
       "    .dataframe tbody tr th:only-of-type {\n",
       "        vertical-align: middle;\n",
       "    }\n",
       "\n",
       "    .dataframe tbody tr th {\n",
       "        vertical-align: top;\n",
       "    }\n",
       "\n",
       "    .dataframe thead th {\n",
       "        text-align: right;\n",
       "    }\n",
       "</style>\n",
       "<table border=\"1\" class=\"dataframe\">\n",
       "  <thead>\n",
       "    <tr style=\"text-align: right;\">\n",
       "      <th></th>\n",
       "      <th>tier</th>\n",
       "      <th>team</th>\n",
       "      <th>count</th>\n",
       "      <th>winrate</th>\n",
       "    </tr>\n",
       "  </thead>\n",
       "  <tbody>\n",
       "    <tr>\n",
       "      <th>0</th>\n",
       "      <td>IRON</td>\n",
       "      <td>100</td>\n",
       "      <td>57831</td>\n",
       "      <td>48.8</td>\n",
       "    </tr>\n",
       "    <tr>\n",
       "      <th>1</th>\n",
       "      <td>IRON</td>\n",
       "      <td>200</td>\n",
       "      <td>60788</td>\n",
       "      <td>51.3</td>\n",
       "    </tr>\n",
       "    <tr>\n",
       "      <th>2</th>\n",
       "      <td>BRONZE</td>\n",
       "      <td>100</td>\n",
       "      <td>65730</td>\n",
       "      <td>51.0</td>\n",
       "    </tr>\n",
       "    <tr>\n",
       "      <th>3</th>\n",
       "      <td>BRONZE</td>\n",
       "      <td>200</td>\n",
       "      <td>63147</td>\n",
       "      <td>49.0</td>\n",
       "    </tr>\n",
       "    <tr>\n",
       "      <th>4</th>\n",
       "      <td>SILVER</td>\n",
       "      <td>100</td>\n",
       "      <td>66388</td>\n",
       "      <td>51.5</td>\n",
       "    </tr>\n",
       "    <tr>\n",
       "      <th>5</th>\n",
       "      <td>SILVER</td>\n",
       "      <td>200</td>\n",
       "      <td>62530</td>\n",
       "      <td>48.5</td>\n",
       "    </tr>\n",
       "    <tr>\n",
       "      <th>6</th>\n",
       "      <td>GOLD</td>\n",
       "      <td>100</td>\n",
       "      <td>64402</td>\n",
       "      <td>50.8</td>\n",
       "    </tr>\n",
       "    <tr>\n",
       "      <th>7</th>\n",
       "      <td>GOLD</td>\n",
       "      <td>200</td>\n",
       "      <td>62495</td>\n",
       "      <td>49.3</td>\n",
       "    </tr>\n",
       "    <tr>\n",
       "      <th>8</th>\n",
       "      <td>PLATINUM</td>\n",
       "      <td>100</td>\n",
       "      <td>59130</td>\n",
       "      <td>51.4</td>\n",
       "    </tr>\n",
       "    <tr>\n",
       "      <th>9</th>\n",
       "      <td>PLATINUM</td>\n",
       "      <td>200</td>\n",
       "      <td>56014</td>\n",
       "      <td>48.7</td>\n",
       "    </tr>\n",
       "  </tbody>\n",
       "</table>\n",
       "</div>"
      ],
      "text/plain": [
       "       tier  team  count  winrate\n",
       "0      IRON   100  57831     48.8\n",
       "1      IRON   200  60788     51.3\n",
       "2    BRONZE   100  65730     51.0\n",
       "3    BRONZE   200  63147     49.0\n",
       "4    SILVER   100  66388     51.5\n",
       "5    SILVER   200  62530     48.5\n",
       "6      GOLD   100  64402     50.8\n",
       "7      GOLD   200  62495     49.3\n",
       "8  PLATINUM   100  59130     51.4\n",
       "9  PLATINUM   200  56014     48.7"
      ]
     },
     "execution_count": 13,
     "metadata": {},
     "output_type": "execute_result"
    }
   ],
   "source": [
    "team_data = pd.read_csv(\"match_data/team_data.csv\", encoding = 'cp949')\n",
    "team_data"
   ]
  },
  {
   "cell_type": "code",
   "execution_count": 26,
   "id": "3522525d",
   "metadata": {
    "scrolled": false
   },
   "outputs": [
    {
     "data": {
      "application/vnd.jupyter.widget-view+json": {
       "model_id": "5e6b8a5aae564c6786134ff7c0e985b8",
       "version_major": 2,
       "version_minor": 0
      },
      "text/plain": [
       "VBox(children=(HBox(children=(Dropdown(description='TIER:', options=('IRON', 'BRONZE', 'SILVER', 'GOLD', 'PLAT…"
      ]
     },
     "execution_count": 26,
     "metadata": {},
     "output_type": "execute_result"
    }
   ],
   "source": [
    "tier = widgets.Dropdown(\n",
    "        options = list(team_data.tier.unique()),\n",
    "        value = 'IRON',\n",
    "        description = 'TIER:'\n",
    ")\n",
    "fig = go.Figure()\n",
    "fig.add_trace(\n",
    "    go.Pie(labels=['BLUE', 'RED'], values =[team_data.loc[team_data.tier == \"IRON\", \"winrate\"].iloc[0], \n",
    "                                           team_data.loc[team_data.tier == \"IRON\", \"winrate\"].iloc[1]] )\n",
    ")\n",
    "fig.update_layout(title = {\"text\" :\"진영별 승률\"})\n",
    "g = go.FigureWidget(data = fig,\n",
    "                   layout = fig.layout)\n",
    "def validate():\n",
    "    if tier.value in team_data.tier.unique():\n",
    "        return True\n",
    "    else:\n",
    "        return False\n",
    "    \n",
    "def response(change):\n",
    "    if validate():\n",
    "        x1 = team_data.loc[team_data.tier == tier.value, \"winrate\"].iloc[0]\n",
    "        x2 = team_data.loc[team_data.tier == tier.value, \"winrate\"].iloc[1]\n",
    "    with g.batch_update():\n",
    "        g.data[0].values = [x1, x2]\n",
    "        g.layout.title.text = \"진영별 승률\"\n",
    "tier.observe(response, names = 'value')\n",
    "container = widgets.HBox([tier])\n",
    "widgets.VBox([container, g])"
   ]
  }
 ],
 "metadata": {
  "kernelspec": {
   "display_name": "Python 3 (ipykernel)",
   "language": "python",
   "name": "python3"
  },
  "language_info": {
   "codemirror_mode": {
    "name": "ipython",
    "version": 3
   },
   "file_extension": ".py",
   "mimetype": "text/x-python",
   "name": "python",
   "nbconvert_exporter": "python",
   "pygments_lexer": "ipython3",
   "version": "3.9.7"
  }
 },
 "nbformat": 4,
 "nbformat_minor": 5
}
