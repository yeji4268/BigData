{
 "cells": [
  {
   "cell_type": "markdown",
   "id": "3b4646a2",
   "metadata": {},
   "source": [
    "## 항공 정비사 데이터 + 항공사별 지연/결항 데이터 : 시각화 & 분석\n",
    "---\n",
    "### 데이터 불러오기"
   ]
  },
  {
   "cell_type": "code",
   "execution_count": 74,
   "id": "ffd32574",
   "metadata": {},
   "outputs": [
    {
     "data": {
      "text/html": [
       "<div>\n",
       "<style scoped>\n",
       "    .dataframe tbody tr th:only-of-type {\n",
       "        vertical-align: middle;\n",
       "    }\n",
       "\n",
       "    .dataframe tbody tr th {\n",
       "        vertical-align: top;\n",
       "    }\n",
       "\n",
       "    .dataframe thead th {\n",
       "        text-align: right;\n",
       "    }\n",
       "</style>\n",
       "<table border=\"1\" class=\"dataframe\">\n",
       "  <thead>\n",
       "    <tr style=\"text-align: right;\">\n",
       "      <th></th>\n",
       "      <th>Unnamed: 0</th>\n",
       "      <th>항공사</th>\n",
       "      <th>운항횟수</th>\n",
       "      <th>지연횟수</th>\n",
       "      <th>지연율</th>\n",
       "      <th>운항계획</th>\n",
       "      <th>결항횟수</th>\n",
       "      <th>결항률</th>\n",
       "      <th>연도</th>\n",
       "      <th>값</th>\n",
       "    </tr>\n",
       "  </thead>\n",
       "  <tbody>\n",
       "    <tr>\n",
       "      <th>0</th>\n",
       "      <td>0</td>\n",
       "      <td>대한항공</td>\n",
       "      <td>69118</td>\n",
       "      <td>4669</td>\n",
       "      <td>6.8</td>\n",
       "      <td>69748.00000</td>\n",
       "      <td>630</td>\n",
       "      <td>0.90</td>\n",
       "      <td>2021.0</td>\n",
       "      <td>2804.0</td>\n",
       "    </tr>\n",
       "    <tr>\n",
       "      <th>1</th>\n",
       "      <td>1</td>\n",
       "      <td>아시아나항공</td>\n",
       "      <td>59174</td>\n",
       "      <td>4648</td>\n",
       "      <td>7.9</td>\n",
       "      <td>59660.00000</td>\n",
       "      <td>486</td>\n",
       "      <td>0.81</td>\n",
       "      <td>2021.0</td>\n",
       "      <td>1277.0</td>\n",
       "    </tr>\n",
       "    <tr>\n",
       "      <th>2</th>\n",
       "      <td>2</td>\n",
       "      <td>에어부산</td>\n",
       "      <td>51520</td>\n",
       "      <td>2548</td>\n",
       "      <td>4.9</td>\n",
       "      <td>51974.00000</td>\n",
       "      <td>454</td>\n",
       "      <td>0.87</td>\n",
       "      <td>2021.0</td>\n",
       "      <td>185.0</td>\n",
       "    </tr>\n",
       "    <tr>\n",
       "      <th>3</th>\n",
       "      <td>3</td>\n",
       "      <td>에어서울</td>\n",
       "      <td>11090</td>\n",
       "      <td>1462</td>\n",
       "      <td>13.2</td>\n",
       "      <td>0.11194</td>\n",
       "      <td>104</td>\n",
       "      <td>0.93</td>\n",
       "      <td>2021.0</td>\n",
       "      <td>25.0</td>\n",
       "    </tr>\n",
       "    <tr>\n",
       "      <th>4</th>\n",
       "      <td>4</td>\n",
       "      <td>제주항공</td>\n",
       "      <td>63188</td>\n",
       "      <td>3809</td>\n",
       "      <td>6.0</td>\n",
       "      <td>63532.00000</td>\n",
       "      <td>344</td>\n",
       "      <td>0.54</td>\n",
       "      <td>2021.0</td>\n",
       "      <td>474.0</td>\n",
       "    </tr>\n",
       "    <tr>\n",
       "      <th>5</th>\n",
       "      <td>5</td>\n",
       "      <td>진에어</td>\n",
       "      <td>71726</td>\n",
       "      <td>5203</td>\n",
       "      <td>7.3</td>\n",
       "      <td>72698.00000</td>\n",
       "      <td>972</td>\n",
       "      <td>1.34</td>\n",
       "      <td>2021.0</td>\n",
       "      <td>151.0</td>\n",
       "    </tr>\n",
       "    <tr>\n",
       "      <th>6</th>\n",
       "      <td>7</td>\n",
       "      <td>플라이강원</td>\n",
       "      <td>2376</td>\n",
       "      <td>38</td>\n",
       "      <td>1.6</td>\n",
       "      <td>2432.00000</td>\n",
       "      <td>56</td>\n",
       "      <td>2.30</td>\n",
       "      <td>2021.0</td>\n",
       "      <td>36.0</td>\n",
       "    </tr>\n",
       "    <tr>\n",
       "      <th>7</th>\n",
       "      <td>9</td>\n",
       "      <td>에어프레미아</td>\n",
       "      <td>536</td>\n",
       "      <td>44</td>\n",
       "      <td>8.2</td>\n",
       "      <td>538.00000</td>\n",
       "      <td>2</td>\n",
       "      <td>0.37</td>\n",
       "      <td>2021.0</td>\n",
       "      <td>41.0</td>\n",
       "    </tr>\n",
       "  </tbody>\n",
       "</table>\n",
       "</div>"
      ],
      "text/plain": [
       "   Unnamed: 0     항공사   운항횟수  지연횟수   지연율         운항계획  결항횟수   결항률      연도  \\\n",
       "0           0    대한항공  69118  4669   6.8  69748.00000   630  0.90  2021.0   \n",
       "1           1  아시아나항공  59174  4648   7.9  59660.00000   486  0.81  2021.0   \n",
       "2           2    에어부산  51520  2548   4.9  51974.00000   454  0.87  2021.0   \n",
       "3           3    에어서울  11090  1462  13.2      0.11194   104  0.93  2021.0   \n",
       "4           4    제주항공  63188  3809   6.0  63532.00000   344  0.54  2021.0   \n",
       "5           5     진에어  71726  5203   7.3  72698.00000   972  1.34  2021.0   \n",
       "6           7   플라이강원   2376    38   1.6   2432.00000    56  2.30  2021.0   \n",
       "7           9  에어프레미아    536    44   8.2    538.00000     2  0.37  2021.0   \n",
       "\n",
       "        값  \n",
       "0  2804.0  \n",
       "1  1277.0  \n",
       "2   185.0  \n",
       "3    25.0  \n",
       "4   474.0  \n",
       "5   151.0  \n",
       "6    36.0  \n",
       "7    41.0  "
      ]
     },
     "execution_count": 74,
     "metadata": {},
     "output_type": "execute_result"
    }
   ],
   "source": [
    "import pandas as pd\n",
    "import numpy as np\n",
    "\n",
    "data_17 = pd.read_csv(\"C:/Data/airline/airline_pre/2017.csv\")\n",
    "data_18 = pd.read_csv(\"C:/Data/airline/airline_pre/2018.csv\")\n",
    "data_19 = pd.read_csv(\"C:/Data/airline/airline_pre/2019.csv\")\n",
    "data_20 = pd.read_csv(\"C:/Data/airline/airline_pre/2020.csv\")\n",
    "data_21 = pd.read_csv(\"C:/Data/airline/airline_pre/2021.csv\")\n",
    "\n",
    "data_21"
   ]
  },
  {
   "cell_type": "code",
   "execution_count": 75,
   "id": "c5b445b1",
   "metadata": {},
   "outputs": [
    {
     "data": {
      "text/html": [
       "<div>\n",
       "<style scoped>\n",
       "    .dataframe tbody tr th:only-of-type {\n",
       "        vertical-align: middle;\n",
       "    }\n",
       "\n",
       "    .dataframe tbody tr th {\n",
       "        vertical-align: top;\n",
       "    }\n",
       "\n",
       "    .dataframe thead th {\n",
       "        text-align: right;\n",
       "    }\n",
       "</style>\n",
       "<table border=\"1\" class=\"dataframe\">\n",
       "  <thead>\n",
       "    <tr style=\"text-align: right;\">\n",
       "      <th></th>\n",
       "      <th>Unnamed: 0</th>\n",
       "      <th>항공사</th>\n",
       "      <th>운항횟수</th>\n",
       "      <th>지연횟수</th>\n",
       "      <th>지연율</th>\n",
       "      <th>운항계획</th>\n",
       "      <th>결항횟수</th>\n",
       "      <th>결항률</th>\n",
       "      <th>연도</th>\n",
       "      <th>값</th>\n",
       "      <th>운항게획</th>\n",
       "    </tr>\n",
       "  </thead>\n",
       "  <tbody>\n",
       "    <tr>\n",
       "      <th>0</th>\n",
       "      <td>0</td>\n",
       "      <td>대한항공</td>\n",
       "      <td>109692</td>\n",
       "      <td>11116</td>\n",
       "      <td>10.13</td>\n",
       "      <td>110544.0</td>\n",
       "      <td>852</td>\n",
       "      <td>0.77</td>\n",
       "      <td>2017.0</td>\n",
       "      <td>2706.0</td>\n",
       "      <td>NaN</td>\n",
       "    </tr>\n",
       "    <tr>\n",
       "      <th>1</th>\n",
       "      <td>1</td>\n",
       "      <td>아시아나항공</td>\n",
       "      <td>71586</td>\n",
       "      <td>8216</td>\n",
       "      <td>11.48</td>\n",
       "      <td>72027.0</td>\n",
       "      <td>441</td>\n",
       "      <td>0.61</td>\n",
       "      <td>2017.0</td>\n",
       "      <td>1441.0</td>\n",
       "      <td>NaN</td>\n",
       "    </tr>\n",
       "    <tr>\n",
       "      <th>2</th>\n",
       "      <td>2</td>\n",
       "      <td>에어부산</td>\n",
       "      <td>49282</td>\n",
       "      <td>6180</td>\n",
       "      <td>12.54</td>\n",
       "      <td>19414.0</td>\n",
       "      <td>132</td>\n",
       "      <td>0.27</td>\n",
       "      <td>2017.0</td>\n",
       "      <td>116.0</td>\n",
       "      <td>NaN</td>\n",
       "    </tr>\n",
       "    <tr>\n",
       "      <th>3</th>\n",
       "      <td>3</td>\n",
       "      <td>이스타항공</td>\n",
       "      <td>35190</td>\n",
       "      <td>3831</td>\n",
       "      <td>10.89</td>\n",
       "      <td>35334.0</td>\n",
       "      <td>144</td>\n",
       "      <td>0.41</td>\n",
       "      <td>2017.0</td>\n",
       "      <td>169.0</td>\n",
       "      <td>NaN</td>\n",
       "    </tr>\n",
       "    <tr>\n",
       "      <th>4</th>\n",
       "      <td>4</td>\n",
       "      <td>제주항공</td>\n",
       "      <td>49580</td>\n",
       "      <td>6702</td>\n",
       "      <td>13.52</td>\n",
       "      <td>49648.0</td>\n",
       "      <td>68</td>\n",
       "      <td>0.14</td>\n",
       "      <td>2017.0</td>\n",
       "      <td>332.0</td>\n",
       "      <td>NaN</td>\n",
       "    </tr>\n",
       "  </tbody>\n",
       "</table>\n",
       "</div>"
      ],
      "text/plain": [
       "   Unnamed: 0     항공사    운항횟수   지연횟수    지연율      운항계획  결항횟수   결항률      연도  \\\n",
       "0           0    대한항공  109692  11116  10.13  110544.0   852  0.77  2017.0   \n",
       "1           1  아시아나항공   71586   8216  11.48   72027.0   441  0.61  2017.0   \n",
       "2           2    에어부산   49282   6180  12.54   19414.0   132  0.27  2017.0   \n",
       "3           3   이스타항공   35190   3831  10.89   35334.0   144  0.41  2017.0   \n",
       "4           4    제주항공   49580   6702  13.52   49648.0    68  0.14  2017.0   \n",
       "\n",
       "        값  운항게획  \n",
       "0  2706.0   NaN  \n",
       "1  1441.0   NaN  \n",
       "2   116.0   NaN  \n",
       "3   169.0   NaN  \n",
       "4   332.0   NaN  "
      ]
     },
     "execution_count": 75,
     "metadata": {},
     "output_type": "execute_result"
    }
   ],
   "source": [
    "data = pd.concat([data_17, data_18, data_19, data_20, data_21])\n",
    "data.head()"
   ]
  },
  {
   "cell_type": "markdown",
   "id": "13ae4c6d",
   "metadata": {},
   "source": [
    "### 시각화 기본 설정"
   ]
  },
  {
   "cell_type": "code",
   "execution_count": 76,
   "id": "720b5773",
   "metadata": {},
   "outputs": [],
   "source": [
    "import matplotlib.pyplot as plt\n",
    "import matplotlib.font_manager as fm\n",
    "\n",
    "# 폰트 설정\n",
    "font_path = \"C:/Windows/Fonts/malgunbd.ttf\"\n",
    "font = fm.FontProperties(fname = font_path).get_name()\n",
    "plt.rc('font', family = font)\n",
    "\n",
    "# 컬러맵 \n",
    "cmap = plt.get_cmap(\"Set1\")\n",
    "color = cmap(range(7))"
   ]
  },
  {
   "cell_type": "markdown",
   "id": "0fcb9ca3",
   "metadata": {},
   "source": [
    "### 2017 항공사별 지연율, 결항률"
   ]
  },
  {
   "cell_type": "code",
   "execution_count": 77,
   "id": "2120dfcb",
   "metadata": {},
   "outputs": [
    {
     "data": {
      "text/plain": [
       "6"
      ]
     },
     "execution_count": 77,
     "metadata": {},
     "output_type": "execute_result"
    }
   ],
   "source": [
    "n = data_17.shape[0]\n",
    "n"
   ]
  },
  {
   "cell_type": "code",
   "execution_count": 78,
   "id": "04a1f6b5",
   "metadata": {},
   "outputs": [
    {
     "data": {
      "text/plain": [
       "array([0, 1, 2, 3, 4, 5])"
      ]
     },
     "execution_count": 78,
     "metadata": {},
     "output_type": "execute_result"
    }
   ],
   "source": [
    "index = np.arange(n)\n",
    "index"
   ]
  },
  {
   "cell_type": "code",
   "execution_count": 79,
   "id": "2405cf83",
   "metadata": {},
   "outputs": [
    {
     "data": {
      "image/png": "[encoded data removed]",
      "text/plain": [
       "<Figure size 720x360 with 1 Axes>"
      ]
     },
     "metadata": {
      "needs_background": "light"
     },
     "output_type": "display_data"
    }
   ],
   "source": [
    "w = 0.25\n",
    "\n",
    "plt.figure(figsize = (10, 5))\n",
    "plt.bar(index - w, data_17.지연율, width = w)\n",
    "plt.bar(index, data_17.결항률, width = w)\n",
    "plt.legend(['지연율', '결항률'])\n",
    "plt.xticks(index, data_17.항공사)\n",
    "plt.grid()\n",
    "plt.title(\"2017 항공사별 지연/결항률\")\n",
    "plt.show()"
   ]
  },
  {
   "cell_type": "markdown",
   "id": "f7b76d4e",
   "metadata": {},
   "source": [
    "항공사별 지연/결항률 분석 결과, 지연율 그래프에서는 진에어가 15.74%로 가장 높은 수치를 나타냈다. 반면, 결항률 그래프에서는 대한항공이 0.77%로 가장 높은 수치를 나타냈다. "
   ]
  },
  {
   "cell_type": "markdown",
   "id": "20d91df7",
   "metadata": {},
   "source": [
    "### 2018 항공사별 지연율, 결항률 분석"
   ]
  },
  {
   "cell_type": "code",
   "execution_count": 80,
   "id": "e73a37ec",
   "metadata": {},
   "outputs": [],
   "source": [
    "n = data_18.shape[0]\n",
    "index = np.arange(n)\n",
    "w = 0.25"
   ]
  },
  {
   "cell_type": "code",
   "execution_count": 81,
   "id": "04e2e7de",
   "metadata": {
    "scrolled": false
   },
   "outputs": [
    {
     "data": {
      "image/png": "[encoded data removed]",
      "text/plain": [
       "<Figure size 720x360 with 1 Axes>"
      ]
     },
     "metadata": {
      "needs_background": "light"
     },
     "output_type": "display_data"
    }
   ],
   "source": [
    "plt.figure(figsize = (10, 5))\n",
    "plt.bar(index - w, data_18.지연율, width = w)\n",
    "plt.bar(index, data_18.결항률, width = w)\n",
    "plt.legend(['지연율', '결항률'])\n",
    "plt.xticks(index, data_18.항공사)\n",
    "plt.grid()\n",
    "plt.title(\"2018 항공사별 지연/결항률\")\n",
    "plt.show()"
   ]
  },
  {
   "cell_type": "markdown",
   "id": "a5185675",
   "metadata": {},
   "source": [
    "2018년도의 항공사별 지연율, 결항률을 그래프로 나타낸 결과, 지연율 1위는 17.08%로 이스타항공으로 나타났다. 또한, 결항률 1위 항공사는 대한항공으로, 1.71%이다. "
   ]
  },
  {
   "cell_type": "markdown",
   "id": "bb31c962",
   "metadata": {},
   "source": [
    "### 2019 항공사별 지연율, 결항률 분석"
   ]
  },
  {
   "cell_type": "code",
   "execution_count": 82,
   "id": "69f67112",
   "metadata": {},
   "outputs": [],
   "source": [
    "n = data_19.shape[0]\n",
    "index = np.arange(n)\n",
    "w = 0.25"
   ]
  },
  {
   "cell_type": "code",
   "execution_count": 83,
   "id": "3b690c4a",
   "metadata": {
    "scrolled": true
   },
   "outputs": [
    {
     "data": {
      "image/png": "[encoded data removed]",
      "text/plain": [
       "<Figure size 720x360 with 1 Axes>"
      ]
     },
     "metadata": {
      "needs_background": "light"
     },
     "output_type": "display_data"
    }
   ],
   "source": [
    "plt.figure(figsize = (10, 5))\n",
    "plt.bar(index - w, data_19.지연율, width = w)\n",
    "plt.bar(index, data_19.결항률, width = w)\n",
    "plt.legend(['지연율', '결항률'])\n",
    "plt.xticks(index, data_19.항공사)\n",
    "plt.grid()\n",
    "plt.title(\"2019 항공사별 지연/결항률\")\n",
    "plt.show()"
   ]
  },
  {
   "cell_type": "markdown",
   "id": "2bea72ed",
   "metadata": {},
   "source": [
    "2019 항공사별 지연/결항률 분석 결과, 결항률 1위는 1.43%의 대한항공으로 나타났고, 에어서울은 36.4%로 지연율에서 압도적 1위로 나타났다. "
   ]
  },
  {
   "cell_type": "markdown",
   "id": "da6a7070",
   "metadata": {},
   "source": [
    "### 2020 항공사별 지연/결항률 분석"
   ]
  },
  {
   "cell_type": "code",
   "execution_count": 84,
   "id": "2bb43652",
   "metadata": {},
   "outputs": [],
   "source": [
    "n = data_20.shape[0]\n",
    "index = np.arange(n)\n",
    "w = 0.25"
   ]
  },
  {
   "cell_type": "code",
   "execution_count": 85,
   "id": "fa7d1c0d",
   "metadata": {
    "scrolled": true
   },
   "outputs": [
    {
     "data": {
      "image/png": "[encoded data removed]",
      "text/plain": [
       "<Figure size 720x360 with 1 Axes>"
      ]
     },
     "metadata": {
      "needs_background": "light"
     },
     "output_type": "display_data"
    }
   ],
   "source": [
    "plt.figure(figsize = (10, 5))\n",
    "plt.bar(index - w, data_20.지연율, width = w)\n",
    "plt.bar(index, data_20.결항률, width = w)\n",
    "plt.legend(['지연율', '결항률'])\n",
    "plt.xticks(index, data_20.항공사)\n",
    "plt.grid()\n",
    "plt.title(\"2020 항공사별 지연/결항률\")\n",
    "plt.show()"
   ]
  },
  {
   "cell_type": "markdown",
   "id": "dd0d6de0",
   "metadata": {},
   "source": [
    "2020년도의 항공사별 지연/결항률 분석 결과, 에어서울이 지연율 10.02%로 가장 높은 수치를 나타냈다. 결항률 1위는 대한항공으로, 결항률 1.08%로 나타났다.  "
   ]
  },
  {
   "cell_type": "markdown",
   "id": "3e144e7b",
   "metadata": {},
   "source": [
    "### 2021 항공사별 지연/결항률 분석"
   ]
  },
  {
   "cell_type": "code",
   "execution_count": 86,
   "id": "3b0bb6ca",
   "metadata": {},
   "outputs": [],
   "source": [
    "n = data_21.shape[0]\n",
    "index = np.arange(n)\n",
    "w = 0.25"
   ]
  },
  {
   "cell_type": "code",
   "execution_count": 87,
   "id": "a3e5f652",
   "metadata": {},
   "outputs": [
    {
     "data": {
      "image/png": "[encoded data removed]",
      "text/plain": [
       "<Figure size 720x360 with 1 Axes>"
      ]
     },
     "metadata": {
      "needs_background": "light"
     },
     "output_type": "display_data"
    }
   ],
   "source": [
    "plt.figure(figsize = (10, 5))\n",
    "plt.bar(index - w, data_21.지연율, width = w)\n",
    "plt.bar(index, data_21.결항률, width = w)\n",
    "plt.legend(['지연율', '결항률'])\n",
    "plt.xticks(index, data_21.항공사)\n",
    "plt.grid()\n",
    "plt.title(\"2021 항공사별 지연/결항률\")\n",
    "plt.show()"
   ]
  },
  {
   "cell_type": "markdown",
   "id": "d2c94d66",
   "metadata": {},
   "source": [
    "2021년도의 항공사별 지연/결항률을 그래프로 나타낸 결과, 지연율 1위는 에어서울로, 13.2%를 기록했다. 반면, 결항률 1위는 진에어로 1.34%로 나타났다. "
   ]
  },
  {
   "cell_type": "markdown",
   "id": "520b35d9",
   "metadata": {},
   "source": [
    "### 2017 ~ 2021년도의 항공사별 지연/결항률 분석 종합 결과\n",
    "대한항공은 2017 ~ 2020년, 4년 동안 결항률 1위로 나타났다. 운행하는 항공편이 많아서 결항률이 가장 높다고 판단하기에는 다른 대형 항공사인 아시아나 항공이 5년간 결항률에서 높은 수치를 보이지 않았다. 높은 수치를 나타내는 항공사가 대체로 비슷한 경향을 보였던 결항률과는 달리, 지연율은 여러 항공사가 지연율 1위로 나타나며 일정한 경향을 보이지는 않았다."
   ]
  },
  {
   "cell_type": "markdown",
   "id": "48a598be",
   "metadata": {},
   "source": [
    "### 지연율 - 정비사 수 상관관계"
   ]
  },
  {
   "cell_type": "code",
   "execution_count": 90,
   "id": "2121ef88",
   "metadata": {},
   "outputs": [
    {
     "data": {
      "text/html": [
       "<div>\n",
       "<style scoped>\n",
       "    .dataframe tbody tr th:only-of-type {\n",
       "        vertical-align: middle;\n",
       "    }\n",
       "\n",
       "    .dataframe tbody tr th {\n",
       "        vertical-align: top;\n",
       "    }\n",
       "\n",
       "    .dataframe thead th {\n",
       "        text-align: right;\n",
       "    }\n",
       "</style>\n",
       "<table border=\"1\" class=\"dataframe\">\n",
       "  <thead>\n",
       "    <tr style=\"text-align: right;\">\n",
       "      <th></th>\n",
       "      <th>Unnamed: 0</th>\n",
       "      <th>운항횟수</th>\n",
       "      <th>지연횟수</th>\n",
       "      <th>지연율</th>\n",
       "      <th>운항계획</th>\n",
       "      <th>결항횟수</th>\n",
       "      <th>결항률</th>\n",
       "      <th>연도</th>\n",
       "      <th>값</th>\n",
       "      <th>운항게획</th>\n",
       "    </tr>\n",
       "  </thead>\n",
       "  <tbody>\n",
       "    <tr>\n",
       "      <th>Unnamed: 0</th>\n",
       "      <td>1.000000</td>\n",
       "      <td>-0.697345</td>\n",
       "      <td>-0.528841</td>\n",
       "      <td>-0.035304</td>\n",
       "      <td>-0.637983</td>\n",
       "      <td>-0.591655</td>\n",
       "      <td>-0.088619</td>\n",
       "      <td>0.231681</td>\n",
       "      <td>-0.716133</td>\n",
       "      <td>-0.836543</td>\n",
       "    </tr>\n",
       "    <tr>\n",
       "      <th>운항횟수</th>\n",
       "      <td>-0.697345</td>\n",
       "      <td>1.000000</td>\n",
       "      <td>0.800099</td>\n",
       "      <td>-0.184362</td>\n",
       "      <td>0.972400</td>\n",
       "      <td>0.847598</td>\n",
       "      <td>0.225350</td>\n",
       "      <td>-0.283109</td>\n",
       "      <td>0.783373</td>\n",
       "      <td>0.999994</td>\n",
       "    </tr>\n",
       "    <tr>\n",
       "      <th>지연횟수</th>\n",
       "      <td>-0.528841</td>\n",
       "      <td>0.800099</td>\n",
       "      <td>1.000000</td>\n",
       "      <td>0.208715</td>\n",
       "      <td>0.775430</td>\n",
       "      <td>0.667410</td>\n",
       "      <td>0.158454</td>\n",
       "      <td>-0.646280</td>\n",
       "      <td>0.572643</td>\n",
       "      <td>0.937916</td>\n",
       "    </tr>\n",
       "    <tr>\n",
       "      <th>지연율</th>\n",
       "      <td>-0.035304</td>\n",
       "      <td>-0.184362</td>\n",
       "      <td>0.208715</td>\n",
       "      <td>1.000000</td>\n",
       "      <td>0.031327</td>\n",
       "      <td>-0.149271</td>\n",
       "      <td>-0.281332</td>\n",
       "      <td>-0.458729</td>\n",
       "      <td>-0.203310</td>\n",
       "      <td>-0.832824</td>\n",
       "    </tr>\n",
       "    <tr>\n",
       "      <th>운항계획</th>\n",
       "      <td>-0.637983</td>\n",
       "      <td>0.972400</td>\n",
       "      <td>0.775430</td>\n",
       "      <td>0.031327</td>\n",
       "      <td>1.000000</td>\n",
       "      <td>0.852618</td>\n",
       "      <td>-0.037797</td>\n",
       "      <td>-0.223061</td>\n",
       "      <td>0.715235</td>\n",
       "      <td>NaN</td>\n",
       "    </tr>\n",
       "    <tr>\n",
       "      <th>결항횟수</th>\n",
       "      <td>-0.591655</td>\n",
       "      <td>0.847598</td>\n",
       "      <td>0.667410</td>\n",
       "      <td>-0.149271</td>\n",
       "      <td>0.852618</td>\n",
       "      <td>1.000000</td>\n",
       "      <td>0.556710</td>\n",
       "      <td>-0.112440</td>\n",
       "      <td>0.745279</td>\n",
       "      <td>0.985089</td>\n",
       "    </tr>\n",
       "    <tr>\n",
       "      <th>결항률</th>\n",
       "      <td>-0.088619</td>\n",
       "      <td>0.225350</td>\n",
       "      <td>0.158454</td>\n",
       "      <td>-0.281332</td>\n",
       "      <td>-0.037797</td>\n",
       "      <td>0.556710</td>\n",
       "      <td>1.000000</td>\n",
       "      <td>0.222595</td>\n",
       "      <td>0.283894</td>\n",
       "      <td>0.862714</td>\n",
       "    </tr>\n",
       "    <tr>\n",
       "      <th>연도</th>\n",
       "      <td>0.231681</td>\n",
       "      <td>-0.283109</td>\n",
       "      <td>-0.646280</td>\n",
       "      <td>-0.458729</td>\n",
       "      <td>-0.223061</td>\n",
       "      <td>-0.112440</td>\n",
       "      <td>0.222595</td>\n",
       "      <td>1.000000</td>\n",
       "      <td>-0.080673</td>\n",
       "      <td>NaN</td>\n",
       "    </tr>\n",
       "    <tr>\n",
       "      <th>값</th>\n",
       "      <td>-0.716133</td>\n",
       "      <td>0.783373</td>\n",
       "      <td>0.572643</td>\n",
       "      <td>-0.203310</td>\n",
       "      <td>0.715235</td>\n",
       "      <td>0.745279</td>\n",
       "      <td>0.283894</td>\n",
       "      <td>-0.080673</td>\n",
       "      <td>1.000000</td>\n",
       "      <td>0.966331</td>\n",
       "    </tr>\n",
       "    <tr>\n",
       "      <th>운항게획</th>\n",
       "      <td>-0.836543</td>\n",
       "      <td>0.999994</td>\n",
       "      <td>0.937916</td>\n",
       "      <td>-0.832824</td>\n",
       "      <td>NaN</td>\n",
       "      <td>0.985089</td>\n",
       "      <td>0.862714</td>\n",
       "      <td>NaN</td>\n",
       "      <td>0.966331</td>\n",
       "      <td>1.000000</td>\n",
       "    </tr>\n",
       "  </tbody>\n",
       "</table>\n",
       "</div>"
      ],
      "text/plain": [
       "            Unnamed: 0      운항횟수      지연횟수       지연율      운항계획      결항횟수  \\\n",
       "Unnamed: 0    1.000000 -0.697345 -0.528841 -0.035304 -0.637983 -0.591655   \n",
       "운항횟수         -0.697345  1.000000  0.800099 -0.184362  0.972400  0.847598   \n",
       "지연횟수         -0.528841  0.800099  1.000000  0.208715  0.775430  0.667410   \n",
       "지연율          -0.035304 -0.184362  0.208715  1.000000  0.031327 -0.149271   \n",
       "운항계획         -0.637983  0.972400  0.775430  0.031327  1.000000  0.852618   \n",
       "결항횟수         -0.591655  0.847598  0.667410 -0.149271  0.852618  1.000000   \n",
       "결항률          -0.088619  0.225350  0.158454 -0.281332 -0.037797  0.556710   \n",
       "연도            0.231681 -0.283109 -0.646280 -0.458729 -0.223061 -0.112440   \n",
       "값            -0.716133  0.783373  0.572643 -0.203310  0.715235  0.745279   \n",
       "운항게획         -0.836543  0.999994  0.937916 -0.832824       NaN  0.985089   \n",
       "\n",
       "                 결항률        연도         값      운항게획  \n",
       "Unnamed: 0 -0.088619  0.231681 -0.716133 -0.836543  \n",
       "운항횟수        0.225350 -0.283109  0.783373  0.999994  \n",
       "지연횟수        0.158454 -0.646280  0.572643  0.937916  \n",
       "지연율        -0.281332 -0.458729 -0.203310 -0.832824  \n",
       "운항계획       -0.037797 -0.223061  0.715235       NaN  \n",
       "결항횟수        0.556710 -0.112440  0.745279  0.985089  \n",
       "결항률         1.000000  0.222595  0.283894  0.862714  \n",
       "연도          0.222595  1.000000 -0.080673       NaN  \n",
       "값           0.283894 -0.080673  1.000000  0.966331  \n",
       "운항게획        0.862714       NaN  0.966331  1.000000  "
      ]
     },
     "execution_count": 90,
     "metadata": {},
     "output_type": "execute_result"
    }
   ],
   "source": [
    "data.corr()"
   ]
  },
  {
   "cell_type": "code",
   "execution_count": 89,
   "id": "30f1f3f8",
   "metadata": {},
   "outputs": [
    {
     "data": {
      "image/png": "[encoded data removed]",
      "text/plain": [
       "<Figure size 576x576 with 1 Axes>"
      ]
     },
     "metadata": {
      "needs_background": "light"
     },
     "output_type": "display_data"
    }
   ],
   "source": [
    "fit = np.polyfit(data.지연율, data.값, 1)\n",
    "d1 = np.poly1d(fit)\n",
    "\n",
    "xs = np.linspace(data.지연율.min(), data.지연율.max())\n",
    "ys = d1(xs)\n",
    "\n",
    "fig = plt.figure(figsize = (8, 8))\n",
    "ax = fig.add_subplot(111)\n",
    "ax.scatter(data.지연율, data.값)\n",
    "ax.plot(xs, ys, color = 'gray', \n",
    "       label = f'{fit[1] : 2f} + {fit[0] : 2f}x')\n",
    "ax.set_xlabel(\"지연율\")\n",
    "ax.set_ylabel(\"정비사 수\")\n",
    "ax.legend(loc = 'upper left')\n",
    "\n",
    "plt.show()"
   ]
  },
  {
   "cell_type": "markdown",
   "id": "86f4a035",
   "metadata": {},
   "source": [
    "지연율 - 정비사 수의 상관관계 분석 결과, 지연율 - 정비사의 상관계수는 -0.2로, 큰 상관관계를 가지지 않는 것으로 나타났다. 그리하여 '정비사의 수가 많을수록 지연율은 낮아질 것이다.'라는 가설은 기각되었다. 지연요인에서 차지하는 '정비 요인'은 정비사의 수의 문제라고 볼 수 없는 것이다. 정비시간 등의 다른 요인을 찾아볼 필요가 있다. "
   ]
  }
 ],
 "metadata": {
  "kernelspec": {
   "display_name": "Python 3 (ipykernel)",
   "language": "python",
   "name": "python3"
  },
  "language_info": {
   "codemirror_mode": {
    "name": "ipython",
    "version": 3
   },
   "file_extension": ".py",
   "mimetype": "text/x-python",
   "name": "python",
   "nbconvert_exporter": "python",
   "pygments_lexer": "ipython3",
   "version": "3.9.7"
  }
 },
 "nbformat": 4,
 "nbformat_minor": 5
}
