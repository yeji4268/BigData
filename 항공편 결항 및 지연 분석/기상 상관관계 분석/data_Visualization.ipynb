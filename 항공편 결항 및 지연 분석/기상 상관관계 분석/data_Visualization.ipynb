{
 "cells": [
  {
   "cell_type": "markdown",
   "id": "1ac139cc",
   "metadata": {},
   "source": [
    "## 병합 데이터(항공 데이터 + 기상 데이터) 분석\n",
    "---\n",
    "### 시각화 기본 패키지 & 데이터 불러오기"
   ]
  },
  {
   "cell_type": "code",
   "execution_count": 1,
   "id": "97437ffd",
   "metadata": {},
   "outputs": [],
   "source": [
    "import matplotlib.pyplot as plt\n",
    "import pandas as pd\n",
    "import matplotlib.font_manager as fm\n",
    "import seaborn as sns\n",
    "import numpy as np\n",
    "\n",
    "# 폰트 설정\n",
    "font_path = \"C:/Windows/Fonts/malgunbd.ttf\"\n",
    "font = fm.FontProperties(fname = font_path).get_name()\n",
    "plt.rc('font', family = font)\n"
   ]
  },
  {
   "cell_type": "code",
   "execution_count": 2,
   "id": "81786411",
   "metadata": {},
   "outputs": [
    {
     "data": {
      "text/html": [
       "<div>\n",
       "<style scoped>\n",
       "    .dataframe tbody tr th:only-of-type {\n",
       "        vertical-align: middle;\n",
       "    }\n",
       "\n",
       "    .dataframe tbody tr th {\n",
       "        vertical-align: top;\n",
       "    }\n",
       "\n",
       "    .dataframe thead th {\n",
       "        text-align: right;\n",
       "    }\n",
       "</style>\n",
       "<table border=\"1\" class=\"dataframe\">\n",
       "  <thead>\n",
       "    <tr style=\"text-align: right;\">\n",
       "      <th></th>\n",
       "      <th>풍향</th>\n",
       "      <th>풍속</th>\n",
       "      <th>시정</th>\n",
       "      <th>전운량</th>\n",
       "      <th>최저운고</th>\n",
       "      <th>기온</th>\n",
       "      <th>강수량</th>\n",
       "      <th>적설</th>\n",
       "      <th>신적설</th>\n",
       "      <th>현황</th>\n",
       "    </tr>\n",
       "  </thead>\n",
       "  <tbody>\n",
       "    <tr>\n",
       "      <th>0</th>\n",
       "      <td>3</td>\n",
       "      <td>4</td>\n",
       "      <td>1000</td>\n",
       "      <td>4</td>\n",
       "      <td>25</td>\n",
       "      <td>1.4</td>\n",
       "      <td>0</td>\n",
       "      <td>0</td>\n",
       "      <td>0</td>\n",
       "      <td>0</td>\n",
       "    </tr>\n",
       "    <tr>\n",
       "      <th>1</th>\n",
       "      <td>33</td>\n",
       "      <td>5</td>\n",
       "      <td>1000</td>\n",
       "      <td>7</td>\n",
       "      <td>25</td>\n",
       "      <td>2.5</td>\n",
       "      <td>0</td>\n",
       "      <td>0</td>\n",
       "      <td>0</td>\n",
       "      <td>0</td>\n",
       "    </tr>\n",
       "    <tr>\n",
       "      <th>2</th>\n",
       "      <td>31</td>\n",
       "      <td>6</td>\n",
       "      <td>1000</td>\n",
       "      <td>2</td>\n",
       "      <td>25</td>\n",
       "      <td>3.7</td>\n",
       "      <td>0</td>\n",
       "      <td>0</td>\n",
       "      <td>0</td>\n",
       "      <td>0</td>\n",
       "    </tr>\n",
       "    <tr>\n",
       "      <th>3</th>\n",
       "      <td>32</td>\n",
       "      <td>6</td>\n",
       "      <td>1000</td>\n",
       "      <td>3</td>\n",
       "      <td>25</td>\n",
       "      <td>3.8</td>\n",
       "      <td>0</td>\n",
       "      <td>0</td>\n",
       "      <td>0</td>\n",
       "      <td>0</td>\n",
       "    </tr>\n",
       "    <tr>\n",
       "      <th>4</th>\n",
       "      <td>30</td>\n",
       "      <td>8</td>\n",
       "      <td>1000</td>\n",
       "      <td>7</td>\n",
       "      <td>25</td>\n",
       "      <td>4.2</td>\n",
       "      <td>0</td>\n",
       "      <td>0</td>\n",
       "      <td>0</td>\n",
       "      <td>0</td>\n",
       "    </tr>\n",
       "    <tr>\n",
       "      <th>...</th>\n",
       "      <td>...</td>\n",
       "      <td>...</td>\n",
       "      <td>...</td>\n",
       "      <td>...</td>\n",
       "      <td>...</td>\n",
       "      <td>...</td>\n",
       "      <td>...</td>\n",
       "      <td>...</td>\n",
       "      <td>...</td>\n",
       "      <td>...</td>\n",
       "    </tr>\n",
       "    <tr>\n",
       "      <th>72335</th>\n",
       "      <td>27</td>\n",
       "      <td>7</td>\n",
       "      <td>1000</td>\n",
       "      <td>0</td>\n",
       "      <td>180</td>\n",
       "      <td>15.3</td>\n",
       "      <td>0</td>\n",
       "      <td>0</td>\n",
       "      <td>0</td>\n",
       "      <td>0</td>\n",
       "    </tr>\n",
       "    <tr>\n",
       "      <th>72336</th>\n",
       "      <td>14</td>\n",
       "      <td>2</td>\n",
       "      <td>800</td>\n",
       "      <td>0</td>\n",
       "      <td>40</td>\n",
       "      <td>13.0</td>\n",
       "      <td>0</td>\n",
       "      <td>0</td>\n",
       "      <td>0</td>\n",
       "      <td>0</td>\n",
       "    </tr>\n",
       "    <tr>\n",
       "      <th>72337</th>\n",
       "      <td>36</td>\n",
       "      <td>10</td>\n",
       "      <td>600</td>\n",
       "      <td>7</td>\n",
       "      <td>15</td>\n",
       "      <td>1.3</td>\n",
       "      <td>0</td>\n",
       "      <td>22</td>\n",
       "      <td>22</td>\n",
       "      <td>0</td>\n",
       "    </tr>\n",
       "    <tr>\n",
       "      <th>72338</th>\n",
       "      <td>33</td>\n",
       "      <td>11</td>\n",
       "      <td>120</td>\n",
       "      <td>7</td>\n",
       "      <td>15</td>\n",
       "      <td>0.6</td>\n",
       "      <td>0</td>\n",
       "      <td>25</td>\n",
       "      <td>25</td>\n",
       "      <td>0</td>\n",
       "    </tr>\n",
       "    <tr>\n",
       "      <th>72339</th>\n",
       "      <td>23</td>\n",
       "      <td>23</td>\n",
       "      <td>1000</td>\n",
       "      <td>7</td>\n",
       "      <td>25</td>\n",
       "      <td>23.6</td>\n",
       "      <td>2</td>\n",
       "      <td>0</td>\n",
       "      <td>0</td>\n",
       "      <td>0</td>\n",
       "    </tr>\n",
       "  </tbody>\n",
       "</table>\n",
       "<p>72340 rows × 10 columns</p>\n",
       "</div>"
      ],
      "text/plain": [
       "       풍향  풍속    시정  전운량  최저운고    기온  강수량  적설  신적설  현황\n",
       "0       3   4  1000    4    25   1.4    0   0    0   0\n",
       "1      33   5  1000    7    25   2.5    0   0    0   0\n",
       "2      31   6  1000    2    25   3.7    0   0    0   0\n",
       "3      32   6  1000    3    25   3.8    0   0    0   0\n",
       "4      30   8  1000    7    25   4.2    0   0    0   0\n",
       "...    ..  ..   ...  ...   ...   ...  ...  ..  ...  ..\n",
       "72335  27   7  1000    0   180  15.3    0   0    0   0\n",
       "72336  14   2   800    0    40  13.0    0   0    0   0\n",
       "72337  36  10   600    7    15   1.3    0  22   22   0\n",
       "72338  33  11   120    7    15   0.6    0  25   25   0\n",
       "72339  23  23  1000    7    25  23.6    2   0    0   0\n",
       "\n",
       "[72340 rows x 10 columns]"
      ]
     },
     "execution_count": 2,
     "metadata": {},
     "output_type": "execute_result"
    }
   ],
   "source": [
    "# 데이터 불러오기\n",
    "data = pd.read_csv(\"C:/Data/data.csv\")\n",
    "data"
   ]
  },
  {
   "cell_type": "code",
   "execution_count": 3,
   "id": "b1a63d5c",
   "metadata": {},
   "outputs": [
    {
     "data": {
      "text/html": [
       "<div>\n",
       "<style scoped>\n",
       "    .dataframe tbody tr th:only-of-type {\n",
       "        vertical-align: middle;\n",
       "    }\n",
       "\n",
       "    .dataframe tbody tr th {\n",
       "        vertical-align: top;\n",
       "    }\n",
       "\n",
       "    .dataframe thead th {\n",
       "        text-align: right;\n",
       "    }\n",
       "</style>\n",
       "<table border=\"1\" class=\"dataframe\">\n",
       "  <thead>\n",
       "    <tr style=\"text-align: right;\">\n",
       "      <th></th>\n",
       "      <th>풍향</th>\n",
       "      <th>풍속</th>\n",
       "      <th>시정</th>\n",
       "      <th>전운량</th>\n",
       "      <th>최저운고</th>\n",
       "      <th>기온</th>\n",
       "      <th>강수량</th>\n",
       "      <th>적설</th>\n",
       "      <th>신적설</th>\n",
       "      <th>현황</th>\n",
       "    </tr>\n",
       "  </thead>\n",
       "  <tbody>\n",
       "    <tr>\n",
       "      <th>0</th>\n",
       "      <td>3</td>\n",
       "      <td>4</td>\n",
       "      <td>1000</td>\n",
       "      <td>4</td>\n",
       "      <td>25</td>\n",
       "      <td>1.4</td>\n",
       "      <td>0</td>\n",
       "      <td>0</td>\n",
       "      <td>0</td>\n",
       "      <td>0</td>\n",
       "    </tr>\n",
       "    <tr>\n",
       "      <th>1</th>\n",
       "      <td>33</td>\n",
       "      <td>5</td>\n",
       "      <td>1000</td>\n",
       "      <td>7</td>\n",
       "      <td>25</td>\n",
       "      <td>2.5</td>\n",
       "      <td>0</td>\n",
       "      <td>0</td>\n",
       "      <td>0</td>\n",
       "      <td>0</td>\n",
       "    </tr>\n",
       "    <tr>\n",
       "      <th>2</th>\n",
       "      <td>31</td>\n",
       "      <td>6</td>\n",
       "      <td>1000</td>\n",
       "      <td>2</td>\n",
       "      <td>25</td>\n",
       "      <td>3.7</td>\n",
       "      <td>0</td>\n",
       "      <td>0</td>\n",
       "      <td>0</td>\n",
       "      <td>0</td>\n",
       "    </tr>\n",
       "    <tr>\n",
       "      <th>3</th>\n",
       "      <td>32</td>\n",
       "      <td>6</td>\n",
       "      <td>1000</td>\n",
       "      <td>3</td>\n",
       "      <td>25</td>\n",
       "      <td>3.8</td>\n",
       "      <td>0</td>\n",
       "      <td>0</td>\n",
       "      <td>0</td>\n",
       "      <td>0</td>\n",
       "    </tr>\n",
       "    <tr>\n",
       "      <th>4</th>\n",
       "      <td>30</td>\n",
       "      <td>8</td>\n",
       "      <td>1000</td>\n",
       "      <td>7</td>\n",
       "      <td>25</td>\n",
       "      <td>4.2</td>\n",
       "      <td>0</td>\n",
       "      <td>0</td>\n",
       "      <td>0</td>\n",
       "      <td>0</td>\n",
       "    </tr>\n",
       "    <tr>\n",
       "      <th>...</th>\n",
       "      <td>...</td>\n",
       "      <td>...</td>\n",
       "      <td>...</td>\n",
       "      <td>...</td>\n",
       "      <td>...</td>\n",
       "      <td>...</td>\n",
       "      <td>...</td>\n",
       "      <td>...</td>\n",
       "      <td>...</td>\n",
       "      <td>...</td>\n",
       "    </tr>\n",
       "    <tr>\n",
       "      <th>72335</th>\n",
       "      <td>27</td>\n",
       "      <td>7</td>\n",
       "      <td>1000</td>\n",
       "      <td>0</td>\n",
       "      <td>180</td>\n",
       "      <td>15.3</td>\n",
       "      <td>0</td>\n",
       "      <td>0</td>\n",
       "      <td>0</td>\n",
       "      <td>0</td>\n",
       "    </tr>\n",
       "    <tr>\n",
       "      <th>72336</th>\n",
       "      <td>14</td>\n",
       "      <td>2</td>\n",
       "      <td>800</td>\n",
       "      <td>0</td>\n",
       "      <td>40</td>\n",
       "      <td>13.0</td>\n",
       "      <td>0</td>\n",
       "      <td>0</td>\n",
       "      <td>0</td>\n",
       "      <td>0</td>\n",
       "    </tr>\n",
       "    <tr>\n",
       "      <th>72337</th>\n",
       "      <td>36</td>\n",
       "      <td>10</td>\n",
       "      <td>600</td>\n",
       "      <td>7</td>\n",
       "      <td>15</td>\n",
       "      <td>1.3</td>\n",
       "      <td>0</td>\n",
       "      <td>22</td>\n",
       "      <td>22</td>\n",
       "      <td>0</td>\n",
       "    </tr>\n",
       "    <tr>\n",
       "      <th>72338</th>\n",
       "      <td>33</td>\n",
       "      <td>11</td>\n",
       "      <td>120</td>\n",
       "      <td>7</td>\n",
       "      <td>15</td>\n",
       "      <td>0.6</td>\n",
       "      <td>0</td>\n",
       "      <td>25</td>\n",
       "      <td>25</td>\n",
       "      <td>0</td>\n",
       "    </tr>\n",
       "    <tr>\n",
       "      <th>72339</th>\n",
       "      <td>23</td>\n",
       "      <td>23</td>\n",
       "      <td>1000</td>\n",
       "      <td>7</td>\n",
       "      <td>25</td>\n",
       "      <td>23.6</td>\n",
       "      <td>2</td>\n",
       "      <td>0</td>\n",
       "      <td>0</td>\n",
       "      <td>0</td>\n",
       "    </tr>\n",
       "  </tbody>\n",
       "</table>\n",
       "<p>72340 rows × 10 columns</p>\n",
       "</div>"
      ],
      "text/plain": [
       "       풍향  풍속    시정  전운량  최저운고    기온  강수량  적설  신적설  현황\n",
       "0       3   4  1000    4    25   1.4    0   0    0   0\n",
       "1      33   5  1000    7    25   2.5    0   0    0   0\n",
       "2      31   6  1000    2    25   3.7    0   0    0   0\n",
       "3      32   6  1000    3    25   3.8    0   0    0   0\n",
       "4      30   8  1000    7    25   4.2    0   0    0   0\n",
       "...    ..  ..   ...  ...   ...   ...  ...  ..  ...  ..\n",
       "72335  27   7  1000    0   180  15.3    0   0    0   0\n",
       "72336  14   2   800    0    40  13.0    0   0    0   0\n",
       "72337  36  10   600    7    15   1.3    0  22   22   0\n",
       "72338  33  11   120    7    15   0.6    0  25   25   0\n",
       "72339  23  23  1000    7    25  23.6    2   0    0   0\n",
       "\n",
       "[72340 rows x 10 columns]"
      ]
     },
     "execution_count": 3,
     "metadata": {},
     "output_type": "execute_result"
    }
   ],
   "source": [
    "data = data.apply(pd.to_numeric, errors = 'coerce').fillna(0)\n",
    "data"
   ]
  },
  {
   "cell_type": "code",
   "execution_count": 4,
   "id": "2f9c9308",
   "metadata": {},
   "outputs": [
    {
     "data": {
      "text/html": [
       "<div>\n",
       "<style scoped>\n",
       "    .dataframe tbody tr th:only-of-type {\n",
       "        vertical-align: middle;\n",
       "    }\n",
       "\n",
       "    .dataframe tbody tr th {\n",
       "        vertical-align: top;\n",
       "    }\n",
       "\n",
       "    .dataframe thead th {\n",
       "        text-align: right;\n",
       "    }\n",
       "</style>\n",
       "<table border=\"1\" class=\"dataframe\">\n",
       "  <thead>\n",
       "    <tr style=\"text-align: right;\">\n",
       "      <th></th>\n",
       "      <th>풍향</th>\n",
       "      <th>풍속</th>\n",
       "      <th>시정</th>\n",
       "      <th>전운량</th>\n",
       "      <th>최저운고</th>\n",
       "      <th>기온</th>\n",
       "      <th>강수량</th>\n",
       "      <th>적설</th>\n",
       "      <th>신적설</th>\n",
       "      <th>현황</th>\n",
       "    </tr>\n",
       "  </thead>\n",
       "  <tbody>\n",
       "    <tr>\n",
       "      <th>71764</th>\n",
       "      <td>1</td>\n",
       "      <td>7</td>\n",
       "      <td>800</td>\n",
       "      <td>8</td>\n",
       "      <td>25</td>\n",
       "      <td>22.2</td>\n",
       "      <td>0</td>\n",
       "      <td>0</td>\n",
       "      <td>0</td>\n",
       "      <td>1</td>\n",
       "    </tr>\n",
       "    <tr>\n",
       "      <th>71765</th>\n",
       "      <td>14</td>\n",
       "      <td>3</td>\n",
       "      <td>1000</td>\n",
       "      <td>2</td>\n",
       "      <td>35</td>\n",
       "      <td>12.6</td>\n",
       "      <td>0</td>\n",
       "      <td>0</td>\n",
       "      <td>0</td>\n",
       "      <td>1</td>\n",
       "    </tr>\n",
       "    <tr>\n",
       "      <th>71766</th>\n",
       "      <td>32</td>\n",
       "      <td>6</td>\n",
       "      <td>1000</td>\n",
       "      <td>0</td>\n",
       "      <td>30</td>\n",
       "      <td>14.7</td>\n",
       "      <td>0</td>\n",
       "      <td>0</td>\n",
       "      <td>0</td>\n",
       "      <td>1</td>\n",
       "    </tr>\n",
       "    <tr>\n",
       "      <th>71767</th>\n",
       "      <td>36</td>\n",
       "      <td>5</td>\n",
       "      <td>1000</td>\n",
       "      <td>2</td>\n",
       "      <td>200</td>\n",
       "      <td>15.2</td>\n",
       "      <td>0</td>\n",
       "      <td>0</td>\n",
       "      <td>0</td>\n",
       "      <td>1</td>\n",
       "    </tr>\n",
       "    <tr>\n",
       "      <th>71768</th>\n",
       "      <td>35</td>\n",
       "      <td>4</td>\n",
       "      <td>1000</td>\n",
       "      <td>3</td>\n",
       "      <td>200</td>\n",
       "      <td>15.3</td>\n",
       "      <td>0</td>\n",
       "      <td>0</td>\n",
       "      <td>0</td>\n",
       "      <td>1</td>\n",
       "    </tr>\n",
       "    <tr>\n",
       "      <th>...</th>\n",
       "      <td>...</td>\n",
       "      <td>...</td>\n",
       "      <td>...</td>\n",
       "      <td>...</td>\n",
       "      <td>...</td>\n",
       "      <td>...</td>\n",
       "      <td>...</td>\n",
       "      <td>...</td>\n",
       "      <td>...</td>\n",
       "      <td>...</td>\n",
       "    </tr>\n",
       "    <tr>\n",
       "      <th>72318</th>\n",
       "      <td>33</td>\n",
       "      <td>15</td>\n",
       "      <td>1000</td>\n",
       "      <td>7</td>\n",
       "      <td>10</td>\n",
       "      <td>1.4</td>\n",
       "      <td>0</td>\n",
       "      <td>0</td>\n",
       "      <td>0</td>\n",
       "      <td>1</td>\n",
       "    </tr>\n",
       "    <tr>\n",
       "      <th>72319</th>\n",
       "      <td>34</td>\n",
       "      <td>13</td>\n",
       "      <td>1000</td>\n",
       "      <td>8</td>\n",
       "      <td>25</td>\n",
       "      <td>8.2</td>\n",
       "      <td>0</td>\n",
       "      <td>0</td>\n",
       "      <td>0</td>\n",
       "      <td>1</td>\n",
       "    </tr>\n",
       "    <tr>\n",
       "      <th>72320</th>\n",
       "      <td>31</td>\n",
       "      <td>18</td>\n",
       "      <td>500</td>\n",
       "      <td>7</td>\n",
       "      <td>10</td>\n",
       "      <td>0.6</td>\n",
       "      <td>0</td>\n",
       "      <td>84</td>\n",
       "      <td>84</td>\n",
       "      <td>1</td>\n",
       "    </tr>\n",
       "    <tr>\n",
       "      <th>72321</th>\n",
       "      <td>33</td>\n",
       "      <td>17</td>\n",
       "      <td>200</td>\n",
       "      <td>7</td>\n",
       "      <td>10</td>\n",
       "      <td>-1.8</td>\n",
       "      <td>0</td>\n",
       "      <td>30</td>\n",
       "      <td>30</td>\n",
       "      <td>1</td>\n",
       "    </tr>\n",
       "    <tr>\n",
       "      <th>72322</th>\n",
       "      <td>2</td>\n",
       "      <td>5</td>\n",
       "      <td>500</td>\n",
       "      <td>8</td>\n",
       "      <td>25</td>\n",
       "      <td>19.2</td>\n",
       "      <td>4</td>\n",
       "      <td>0</td>\n",
       "      <td>0</td>\n",
       "      <td>1</td>\n",
       "    </tr>\n",
       "  </tbody>\n",
       "</table>\n",
       "<p>559 rows × 10 columns</p>\n",
       "</div>"
      ],
      "text/plain": [
       "       풍향  풍속    시정  전운량  최저운고    기온  강수량  적설  신적설  현황\n",
       "71764   1   7   800    8    25  22.2    0   0    0   1\n",
       "71765  14   3  1000    2    35  12.6    0   0    0   1\n",
       "71766  32   6  1000    0    30  14.7    0   0    0   1\n",
       "71767  36   5  1000    2   200  15.2    0   0    0   1\n",
       "71768  35   4  1000    3   200  15.3    0   0    0   1\n",
       "...    ..  ..   ...  ...   ...   ...  ...  ..  ...  ..\n",
       "72318  33  15  1000    7    10   1.4    0   0    0   1\n",
       "72319  34  13  1000    8    25   8.2    0   0    0   1\n",
       "72320  31  18   500    7    10   0.6    0  84   84   1\n",
       "72321  33  17   200    7    10  -1.8    0  30   30   1\n",
       "72322   2   5   500    8    25  19.2    4   0    0   1\n",
       "\n",
       "[559 rows x 10 columns]"
      ]
     },
     "execution_count": 4,
     "metadata": {},
     "output_type": "execute_result"
    }
   ],
   "source": [
    "cancel = data[data.현황 == 1]\n",
    "cancel"
   ]
  },
  {
   "cell_type": "code",
   "execution_count": 25,
   "id": "710ade96",
   "metadata": {},
   "outputs": [
    {
     "data": {
      "text/html": [
       "<div>\n",
       "<style scoped>\n",
       "    .dataframe tbody tr th:only-of-type {\n",
       "        vertical-align: middle;\n",
       "    }\n",
       "\n",
       "    .dataframe tbody tr th {\n",
       "        vertical-align: top;\n",
       "    }\n",
       "\n",
       "    .dataframe thead th {\n",
       "        text-align: right;\n",
       "    }\n",
       "</style>\n",
       "<table border=\"1\" class=\"dataframe\">\n",
       "  <thead>\n",
       "    <tr style=\"text-align: right;\">\n",
       "      <th></th>\n",
       "      <th>풍향</th>\n",
       "      <th>풍속</th>\n",
       "      <th>시정</th>\n",
       "      <th>전운량</th>\n",
       "      <th>최저운고</th>\n",
       "      <th>기온</th>\n",
       "      <th>강수량</th>\n",
       "      <th>적설</th>\n",
       "      <th>신적설</th>\n",
       "      <th>현황</th>\n",
       "    </tr>\n",
       "  </thead>\n",
       "  <tbody>\n",
       "    <tr>\n",
       "      <th>0</th>\n",
       "      <td>3</td>\n",
       "      <td>4</td>\n",
       "      <td>1000</td>\n",
       "      <td>4</td>\n",
       "      <td>25</td>\n",
       "      <td>1.4</td>\n",
       "      <td>0</td>\n",
       "      <td>0</td>\n",
       "      <td>0</td>\n",
       "      <td>0</td>\n",
       "    </tr>\n",
       "    <tr>\n",
       "      <th>1</th>\n",
       "      <td>33</td>\n",
       "      <td>5</td>\n",
       "      <td>1000</td>\n",
       "      <td>7</td>\n",
       "      <td>25</td>\n",
       "      <td>2.5</td>\n",
       "      <td>0</td>\n",
       "      <td>0</td>\n",
       "      <td>0</td>\n",
       "      <td>0</td>\n",
       "    </tr>\n",
       "    <tr>\n",
       "      <th>2</th>\n",
       "      <td>31</td>\n",
       "      <td>6</td>\n",
       "      <td>1000</td>\n",
       "      <td>2</td>\n",
       "      <td>25</td>\n",
       "      <td>3.7</td>\n",
       "      <td>0</td>\n",
       "      <td>0</td>\n",
       "      <td>0</td>\n",
       "      <td>0</td>\n",
       "    </tr>\n",
       "    <tr>\n",
       "      <th>3</th>\n",
       "      <td>32</td>\n",
       "      <td>6</td>\n",
       "      <td>1000</td>\n",
       "      <td>3</td>\n",
       "      <td>25</td>\n",
       "      <td>3.8</td>\n",
       "      <td>0</td>\n",
       "      <td>0</td>\n",
       "      <td>0</td>\n",
       "      <td>0</td>\n",
       "    </tr>\n",
       "    <tr>\n",
       "      <th>4</th>\n",
       "      <td>30</td>\n",
       "      <td>8</td>\n",
       "      <td>1000</td>\n",
       "      <td>7</td>\n",
       "      <td>25</td>\n",
       "      <td>4.2</td>\n",
       "      <td>0</td>\n",
       "      <td>0</td>\n",
       "      <td>0</td>\n",
       "      <td>0</td>\n",
       "    </tr>\n",
       "    <tr>\n",
       "      <th>...</th>\n",
       "      <td>...</td>\n",
       "      <td>...</td>\n",
       "      <td>...</td>\n",
       "      <td>...</td>\n",
       "      <td>...</td>\n",
       "      <td>...</td>\n",
       "      <td>...</td>\n",
       "      <td>...</td>\n",
       "      <td>...</td>\n",
       "      <td>...</td>\n",
       "    </tr>\n",
       "    <tr>\n",
       "      <th>72335</th>\n",
       "      <td>27</td>\n",
       "      <td>7</td>\n",
       "      <td>1000</td>\n",
       "      <td>0</td>\n",
       "      <td>180</td>\n",
       "      <td>15.3</td>\n",
       "      <td>0</td>\n",
       "      <td>0</td>\n",
       "      <td>0</td>\n",
       "      <td>0</td>\n",
       "    </tr>\n",
       "    <tr>\n",
       "      <th>72336</th>\n",
       "      <td>14</td>\n",
       "      <td>2</td>\n",
       "      <td>800</td>\n",
       "      <td>0</td>\n",
       "      <td>40</td>\n",
       "      <td>13.0</td>\n",
       "      <td>0</td>\n",
       "      <td>0</td>\n",
       "      <td>0</td>\n",
       "      <td>0</td>\n",
       "    </tr>\n",
       "    <tr>\n",
       "      <th>72337</th>\n",
       "      <td>36</td>\n",
       "      <td>10</td>\n",
       "      <td>600</td>\n",
       "      <td>7</td>\n",
       "      <td>15</td>\n",
       "      <td>1.3</td>\n",
       "      <td>0</td>\n",
       "      <td>22</td>\n",
       "      <td>22</td>\n",
       "      <td>0</td>\n",
       "    </tr>\n",
       "    <tr>\n",
       "      <th>72338</th>\n",
       "      <td>33</td>\n",
       "      <td>11</td>\n",
       "      <td>120</td>\n",
       "      <td>7</td>\n",
       "      <td>15</td>\n",
       "      <td>0.6</td>\n",
       "      <td>0</td>\n",
       "      <td>25</td>\n",
       "      <td>25</td>\n",
       "      <td>0</td>\n",
       "    </tr>\n",
       "    <tr>\n",
       "      <th>72339</th>\n",
       "      <td>23</td>\n",
       "      <td>23</td>\n",
       "      <td>1000</td>\n",
       "      <td>7</td>\n",
       "      <td>25</td>\n",
       "      <td>23.6</td>\n",
       "      <td>2</td>\n",
       "      <td>0</td>\n",
       "      <td>0</td>\n",
       "      <td>0</td>\n",
       "    </tr>\n",
       "  </tbody>\n",
       "</table>\n",
       "<p>71781 rows × 10 columns</p>\n",
       "</div>"
      ],
      "text/plain": [
       "       풍향  풍속    시정  전운량  최저운고    기온  강수량  적설  신적설  현황\n",
       "0       3   4  1000    4    25   1.4    0   0    0   0\n",
       "1      33   5  1000    7    25   2.5    0   0    0   0\n",
       "2      31   6  1000    2    25   3.7    0   0    0   0\n",
       "3      32   6  1000    3    25   3.8    0   0    0   0\n",
       "4      30   8  1000    7    25   4.2    0   0    0   0\n",
       "...    ..  ..   ...  ...   ...   ...  ...  ..  ...  ..\n",
       "72335  27   7  1000    0   180  15.3    0   0    0   0\n",
       "72336  14   2   800    0    40  13.0    0   0    0   0\n",
       "72337  36  10   600    7    15   1.3    0  22   22   0\n",
       "72338  33  11   120    7    15   0.6    0  25   25   0\n",
       "72339  23  23  1000    7    25  23.6    2   0    0   0\n",
       "\n",
       "[71781 rows x 10 columns]"
      ]
     },
     "execution_count": 25,
     "metadata": {},
     "output_type": "execute_result"
    }
   ],
   "source": [
    "flight = data[data.현황 == 0]\n",
    "flight "
   ]
  },
  {
   "cell_type": "markdown",
   "id": "ebffc27a",
   "metadata": {},
   "source": [
    "### 기상 데이터 분포(범위) 확인\n",
    "---\n",
    "#### 풍향 데이터 분포"
   ]
  },
  {
   "cell_type": "code",
   "execution_count": 5,
   "id": "65da225f",
   "metadata": {},
   "outputs": [
    {
     "data": {
      "image/png": "[encoded data removed]",
      "text/plain": [
       "<Figure size 432x288 with 1 Axes>"
      ]
     },
     "metadata": {
      "needs_background": "light"
     },
     "output_type": "display_data"
    }
   ],
   "source": [
    "plt.boxplot(cancel.풍향, vert=0)\n",
    "plt.show()"
   ]
  },
  {
   "cell_type": "code",
   "execution_count": 6,
   "id": "e8364961",
   "metadata": {},
   "outputs": [
    {
     "data": {
      "text/plain": [
       "count    559.000000\n",
       "mean      21.778175\n",
       "std       10.176445\n",
       "min        1.000000\n",
       "25%       12.500000\n",
       "50%       23.000000\n",
       "75%       32.000000\n",
       "max       36.000000\n",
       "Name: 풍향, dtype: float64"
      ]
     },
     "execution_count": 6,
     "metadata": {},
     "output_type": "execute_result"
    }
   ],
   "source": [
    "cancel.풍향.describe()"
   ]
  },
  {
   "cell_type": "markdown",
   "id": "eeea8466",
   "metadata": {},
   "source": [
    "풍향 데이터의 최소값은 1, 최대값은 36이고 Q1, Q2, Q3은 12, 23, 32로 나타났다. <br>\n",
    "범위 : (1, 36)\n",
    "* 이상치는 관측되지 않았다. "
   ]
  },
  {
   "cell_type": "markdown",
   "id": "77f4fa66",
   "metadata": {},
   "source": [
    "#### 풍속 데이터 분포"
   ]
  },
  {
   "cell_type": "code",
   "execution_count": 30,
   "id": "4da2a9a2",
   "metadata": {},
   "outputs": [
    {
     "data": {
      "image/png": "[encoded data removed]",
      "text/plain": [
       "<Figure size 432x288 with 1 Axes>"
      ]
     },
     "metadata": {
      "needs_background": "light"
     },
     "output_type": "display_data"
    }
   ],
   "source": [
    "plt.boxplot(cancel.풍속, vert=0)\n",
    "plt.show()"
   ]
  },
  {
   "cell_type": "code",
   "execution_count": 31,
   "id": "9c8740c7",
   "metadata": {},
   "outputs": [
    {
     "data": {
      "text/plain": [
       "count    559.000000\n",
       "mean      15.547406\n",
       "std        8.443200\n",
       "min        1.000000\n",
       "25%        8.000000\n",
       "50%       15.000000\n",
       "75%       22.000000\n",
       "max       43.000000\n",
       "Name: 풍속, dtype: float64"
      ]
     },
     "execution_count": 31,
     "metadata": {},
     "output_type": "execute_result"
    }
   ],
   "source": [
    "cancel.풍속.describe()"
   ]
  },
  {
   "cell_type": "markdown",
   "id": "c1735264",
   "metadata": {},
   "source": [
    "풍속 데이터의 최소값은 1, 최대값은 43이다. Q1, Q2, Q3은 8, 15, 22로 나타났다. <br>\n",
    "범위 : (1, 43)\n",
    "* 이상치는 관측되지 않았다. "
   ]
  },
  {
   "cell_type": "markdown",
   "id": "13188a26",
   "metadata": {},
   "source": [
    "#### 시정 데이터 분포"
   ]
  },
  {
   "cell_type": "code",
   "execution_count": 33,
   "id": "2dea0215",
   "metadata": {},
   "outputs": [
    {
     "data": {
      "image/png": "[encoded data removed]",
      "text/plain": [
       "<Figure size 432x288 with 1 Axes>"
      ]
     },
     "metadata": {
      "needs_background": "light"
     },
     "output_type": "display_data"
    }
   ],
   "source": [
    "plt.boxplot(cancel.시정, vert=0)\n",
    "plt.show()"
   ]
  },
  {
   "cell_type": "code",
   "execution_count": 34,
   "id": "912b624f",
   "metadata": {
    "scrolled": true
   },
   "outputs": [
    {
     "data": {
      "text/plain": [
       "count     559.000000\n",
       "mean      731.305903\n",
       "std       322.607951\n",
       "min        40.000000\n",
       "25%       500.000000\n",
       "50%      1000.000000\n",
       "75%      1000.000000\n",
       "max      1000.000000\n",
       "Name: 시정, dtype: float64"
      ]
     },
     "execution_count": 34,
     "metadata": {},
     "output_type": "execute_result"
    }
   ],
   "source": [
    "cancel.시정.describe()"
   ]
  },
  {
   "cell_type": "markdown",
   "id": "a0195139",
   "metadata": {},
   "source": [
    "시정 데이터의 최소값은 40, 최대값은 1000이다. 시정 데이터의 경우, 평소 맑을 때의 상태(특별한 이상 기상 현상이 없는 경우)에는 1000으로 나타나기 때문에 Q1, Q2, Q3이 500, 1000, 1000으로 나타났다. <br>\n",
    "범위 : (40, 1000)\n",
    "* 이상치는 관측되지 않았다."
   ]
  },
  {
   "cell_type": "markdown",
   "id": "cb6a6cc5",
   "metadata": {},
   "source": [
    "#### 전운량 데이터 분포"
   ]
  },
  {
   "cell_type": "code",
   "execution_count": 35,
   "id": "c4065787",
   "metadata": {},
   "outputs": [
    {
     "data": {
      "image/png": "[encoded data removed]",
      "text/plain": [
       "<Figure size 432x288 with 1 Axes>"
      ]
     },
     "metadata": {
      "needs_background": "light"
     },
     "output_type": "display_data"
    }
   ],
   "source": [
    "plt.boxplot(cancel.전운량, vert=0)\n",
    "plt.show()"
   ]
  },
  {
   "cell_type": "code",
   "execution_count": 36,
   "id": "fc9db8ad",
   "metadata": {},
   "outputs": [
    {
     "data": {
      "text/plain": [
       "count    559.000000\n",
       "mean       6.457961\n",
       "std        2.051646\n",
       "min        0.000000\n",
       "25%        6.000000\n",
       "50%        7.000000\n",
       "75%        8.000000\n",
       "max        8.000000\n",
       "Name: 전운량, dtype: float64"
      ]
     },
     "execution_count": 36,
     "metadata": {},
     "output_type": "execute_result"
    }
   ],
   "source": [
    "cancel.전운량.describe()"
   ]
  },
  {
   "cell_type": "markdown",
   "id": "ff08bce8",
   "metadata": {},
   "source": [
    "전운량 데이터의 최소값은 0, 최대값은 8이다.  Q1, Q2, Q3은 6, 7, 8로 나타났다. <br>\n",
    "범위 : (0, 8)\n",
    "* 이상치가 3건 나타났지만, 이 분포 확인에서는 결항 데이터만을 사용했기 때문에 결항 시, 기상 특성으로 해석될 수 있다. "
   ]
  },
  {
   "cell_type": "markdown",
   "id": "74fa53af",
   "metadata": {},
   "source": [
    "#### 최저운고 데이터 분포"
   ]
  },
  {
   "cell_type": "code",
   "execution_count": 37,
   "id": "7285709c",
   "metadata": {},
   "outputs": [
    {
     "data": {
      "image/png": "[encoded data removed]",
      "text/plain": [
       "<Figure size 432x288 with 1 Axes>"
      ]
     },
     "metadata": {
      "needs_background": "light"
     },
     "output_type": "display_data"
    }
   ],
   "source": [
    "plt.boxplot(cancel.최저운고, vert=0)\n",
    "plt.show()"
   ]
  },
  {
   "cell_type": "code",
   "execution_count": 38,
   "id": "a14d41b1",
   "metadata": {},
   "outputs": [
    {
     "data": {
      "text/plain": [
       "count    559.000000\n",
       "mean      34.669052\n",
       "std       51.081034\n",
       "min        2.000000\n",
       "25%       10.000000\n",
       "50%       15.000000\n",
       "75%       30.000000\n",
       "max      230.000000\n",
       "Name: 최저운고, dtype: float64"
      ]
     },
     "execution_count": 38,
     "metadata": {},
     "output_type": "execute_result"
    }
   ],
   "source": [
    "cancel.최저운고.describe()"
   ]
  },
  {
   "cell_type": "markdown",
   "id": "0ea03fbf",
   "metadata": {},
   "source": [
    "최저운고 데이터의 최소값은 2, 최대값은 230이다. Q1, Q2, Q3은 10, 15, 30이다. <br>\n",
    "범위 : (2, 230)\n",
    "* 이상치가 6건 나타났지만, 이 분포에서는 결항 데이터만을 사용했기 때문에 결항 발생 시, 기상 특성으로 해석될 수 있다."
   ]
  },
  {
   "cell_type": "markdown",
   "id": "7b02186f",
   "metadata": {},
   "source": [
    "#### 기온 데이터 분포"
   ]
  },
  {
   "cell_type": "code",
   "execution_count": 39,
   "id": "0643d963",
   "metadata": {},
   "outputs": [
    {
     "data": {
      "image/png": "[encoded data removed]",
      "text/plain": [
       "<Figure size 432x288 with 1 Axes>"
      ]
     },
     "metadata": {
      "needs_background": "light"
     },
     "output_type": "display_data"
    }
   ],
   "source": [
    "plt.boxplot(cancel.기온, vert=0)\n",
    "plt.show()"
   ]
  },
  {
   "cell_type": "code",
   "execution_count": 40,
   "id": "eb83264e",
   "metadata": {},
   "outputs": [
    {
     "data": {
      "text/plain": [
       "count    559.000000\n",
       "mean      15.692129\n",
       "std       10.445332\n",
       "min       -2.900000\n",
       "25%        7.400000\n",
       "50%       18.600000\n",
       "75%       25.100000\n",
       "max       35.000000\n",
       "Name: 기온, dtype: float64"
      ]
     },
     "execution_count": 40,
     "metadata": {},
     "output_type": "execute_result"
    }
   ],
   "source": [
    "cancel.기온.describe()"
   ]
  },
  {
   "cell_type": "markdown",
   "id": "35a02e56",
   "metadata": {},
   "source": [
    "기온 데이터의 최소값은 -2.9, 최대값은 35이다. Q1, Q2, Q3은 7.4, 18.6, 25.1로 나타났다. <br>\n",
    "범위 : (-2.9, 35)\n",
    "* 이상치는 관측되지 않았다. "
   ]
  },
  {
   "cell_type": "markdown",
   "id": "7c2054a7",
   "metadata": {},
   "source": [
    "#### 강수량 데이터 분포"
   ]
  },
  {
   "cell_type": "code",
   "execution_count": 41,
   "id": "a42911c9",
   "metadata": {},
   "outputs": [
    {
     "data": {
      "image/png": "[encoded data removed]",
      "text/plain": [
       "<Figure size 432x288 with 1 Axes>"
      ]
     },
     "metadata": {
      "needs_background": "light"
     },
     "output_type": "display_data"
    }
   ],
   "source": [
    "plt.boxplot(cancel.강수량, vert=0)\n",
    "plt.show()"
   ]
  },
  {
   "cell_type": "code",
   "execution_count": 42,
   "id": "d7560416",
   "metadata": {},
   "outputs": [
    {
     "data": {
      "text/plain": [
       "count    559.000000\n",
       "mean       1.629696\n",
       "std        6.065702\n",
       "min        0.000000\n",
       "25%        0.000000\n",
       "50%        0.000000\n",
       "75%        1.000000\n",
       "max       48.000000\n",
       "Name: 강수량, dtype: float64"
      ]
     },
     "execution_count": 42,
     "metadata": {},
     "output_type": "execute_result"
    }
   ],
   "source": [
    "cancel.강수량.describe()"
   ]
  },
  {
   "cell_type": "markdown",
   "id": "44b9a30c",
   "metadata": {},
   "source": [
    "강수량 데이터는 최소값이 0, 최대값이 48이다. Q1, Q2, Q3는 0, 0, 1로 나타났다. <br>\n",
    "범위 : (0, 48)\n",
    "* 이상치가 나타났지만, 이 분포에서는 결항 데이터만을 사용했기 때문에 결항 발생 시, 기상 특성으로 해석될 수 있다."
   ]
  },
  {
   "cell_type": "markdown",
   "id": "72cd608e",
   "metadata": {},
   "source": [
    "#### 적설 데이터 분포"
   ]
  },
  {
   "cell_type": "code",
   "execution_count": 43,
   "id": "86ebf151",
   "metadata": {},
   "outputs": [
    {
     "data": {
      "image/png": "[encoded data removed]",
      "text/plain": [
       "<Figure size 432x288 with 1 Axes>"
      ]
     },
     "metadata": {
      "needs_background": "light"
     },
     "output_type": "display_data"
    }
   ],
   "source": [
    "plt.boxplot(cancel.적설, vert=0)\n",
    "plt.show()"
   ]
  },
  {
   "cell_type": "code",
   "execution_count": 44,
   "id": "e5d72058",
   "metadata": {},
   "outputs": [
    {
     "data": {
      "text/plain": [
       "count    559.000000\n",
       "mean       4.037567\n",
       "std       14.745889\n",
       "min        0.000000\n",
       "25%        0.000000\n",
       "50%        0.000000\n",
       "75%        0.000000\n",
       "max       84.000000\n",
       "Name: 적설, dtype: float64"
      ]
     },
     "execution_count": 44,
     "metadata": {},
     "output_type": "execute_result"
    }
   ],
   "source": [
    "cancel.적설.describe()"
   ]
  },
  {
   "cell_type": "markdown",
   "id": "557691f8",
   "metadata": {},
   "source": [
    "적설 데이터의 최소값은 0, 최대값은 84이다. Q1, Q2, Q3은 0, 0, 0 으로 나타났다<br>\n",
    "범위 : (0, 84)\n",
    "* 이상치가 나타났지만, 이 분포에서는 결항 데이터만을 사용했기 때문에 결항 발생 시, 기상 특성으로 해석될 수 있다. \n",
    "* Q1, Q2, Q3가 모두 0으로 나타났기 때문에 이 데이터의 지역인 제주에는 눈이 내리는 빈도가 적다는 뜻으로 해석될 수 있다."
   ]
  },
  {
   "cell_type": "markdown",
   "id": "4f9fbb0b",
   "metadata": {},
   "source": [
    "#### 신적설 데이터 분포"
   ]
  },
  {
   "cell_type": "code",
   "execution_count": 45,
   "id": "e57c61b9",
   "metadata": {},
   "outputs": [
    {
     "data": {
      "image/png": "[encoded data removed]",
      "text/plain": [
       "<Figure size 432x288 with 1 Axes>"
      ]
     },
     "metadata": {
      "needs_background": "light"
     },
     "output_type": "display_data"
    }
   ],
   "source": [
    "plt.boxplot(cancel.신적설, vert=0)\n",
    "plt.show()"
   ]
  },
  {
   "cell_type": "code",
   "execution_count": 46,
   "id": "2bd10f40",
   "metadata": {},
   "outputs": [
    {
     "data": {
      "text/plain": [
       "count    559.000000\n",
       "mean       4.037567\n",
       "std       14.745889\n",
       "min        0.000000\n",
       "25%        0.000000\n",
       "50%        0.000000\n",
       "75%        0.000000\n",
       "max       84.000000\n",
       "Name: 신적설, dtype: float64"
      ]
     },
     "execution_count": 46,
     "metadata": {},
     "output_type": "execute_result"
    }
   ],
   "source": [
    "cancel.신적설.describe()"
   ]
  },
  {
   "cell_type": "markdown",
   "id": "86144f16",
   "metadata": {},
   "source": [
    "신적설 데이터의 최소값은 0, 최대값은 84이다. Q1, Q2, Q3은 0, 0, 0으로 나타났다. <br>\n",
    "범위 : (0, 84)\n",
    "* 이상치가 나타났지만, 이 분포에서는 결항 데이터만을 다루고 있기 때문에 결항 발생 시의 기상 특성으로 해석될 수 있다.\n",
    "* Q1, Q2, Q3가 모두 0으로 나타났기 떄문에 이 데이터의 지역인 제주에는 눈이 내리는 빈도가 적다는 의미로 해석될 수 있다."
   ]
  },
  {
   "cell_type": "markdown",
   "id": "b8fddc45",
   "metadata": {},
   "source": [
    "### 상관관계 히트맵\n",
    "---\n",
    "#### 풍향 데이터\n",
    "* 출발한 항공편의 데이터를 상관관계 분석한 결과로는 정상 출발한 제주 지역의 기상 상황을 알 수 있다.  "
   ]
  },
  {
   "cell_type": "code",
   "execution_count": 26,
   "id": "84849972",
   "metadata": {},
   "outputs": [
    {
     "data": {
      "image/png": "[encoded data removed]",
      "text/plain": [
       "<Figure size 720x576 with 2 Axes>"
      ]
     },
     "metadata": {
      "needs_background": "light"
     },
     "output_type": "display_data"
    }
   ],
   "source": [
    "x = flight.풍향\n",
    "y = flight.현황\n",
    "\n",
    "fig = plt.figure(figsize = (10, 8))\n",
    "ax = fig.add_subplot(111)\n",
    "\n",
    "c = ax.hist2d(x, y, bins = [9, 8],\n",
    "             range = [(1, 36), (0, 1)])\n",
    "\n",
    "ax.set_xlabel(\"풍향\")\n",
    "ax.set_ylabel(\"현황\")\n",
    "ax.set_xticks(c[1])\n",
    "ax.set_yticks(c[2])\n",
    "\n",
    "fig.colorbar(c[3], ax = ax)\n",
    "plt.show()"
   ]
  },
  {
   "cell_type": "markdown",
   "id": "948e7e11",
   "metadata": {},
   "source": [
    "정상 출발했을 때의 데이터 분석 결과, 4.89 ~ 8.78, 32.11 ~ 36의 빈도수가 높게 나타났다.<br>\n",
    "제주 지역은 4.89 ~ 8.78, 32.11 ~ 36 범위의 풍향이 자주 나타난다. "
   ]
  },
  {
   "cell_type": "code",
   "execution_count": 15,
   "id": "9e499d0a",
   "metadata": {},
   "outputs": [
    {
     "data": {
      "image/png": "[encoded data removed]",
      "text/plain": [
       "<Figure size 720x576 with 2 Axes>"
      ]
     },
     "metadata": {
      "needs_background": "light"
     },
     "output_type": "display_data"
    }
   ],
   "source": [
    "x = cancel.풍향\n",
    "y = cancel.현황\n",
    "\n",
    "fig = plt.figure(figsize = (10, 8))\n",
    "ax = fig.add_subplot(111)\n",
    "\n",
    "c = ax.hist2d(x, y, bins = [9, 8],\n",
    "             range = [(1, 36), (0, 1)])\n",
    "\n",
    "ax.set_xlabel(\"풍향\")\n",
    "ax.set_ylabel(\"현황\")\n",
    "ax.set_xticks(c[1])\n",
    "ax.set_yticks(c[2])\n",
    "\n",
    "fig.colorbar(c[3], ax = ax)\n",
    "plt.show()"
   ]
  },
  {
   "cell_type": "markdown",
   "id": "677cfa7e",
   "metadata": {},
   "source": [
    "결항 데이터만으로 현황 - 풍향 데이터 간의 상관관계를 히트맵으로 나타냈다. <br>\n",
    "풍향 32 ~ 36일 때 결항의 수가 많은 것을 알 수 있다. "
   ]
  },
  {
   "cell_type": "markdown",
   "id": "709a56c4",
   "metadata": {},
   "source": [
    "#### 풍속 데이터\n",
    "* 출발한 항공편의 데이터를 상관관계 분석한 결과로는 정상 출발한 제주 지역의 기상 상황을 알 수 있다.  "
   ]
  },
  {
   "cell_type": "code",
   "execution_count": 27,
   "id": "448ef09c",
   "metadata": {},
   "outputs": [
    {
     "data": {
      "image/png": "[encoded data removed]",
      "text/plain": [
       "<Figure size 720x576 with 2 Axes>"
      ]
     },
     "metadata": {
      "needs_background": "light"
     },
     "output_type": "display_data"
    }
   ],
   "source": [
    "x = flight.풍속\n",
    "y = flight.현황\n",
    "\n",
    "fig = plt.figure(figsize = (10, 8))\n",
    "ax = fig.add_subplot(111)\n",
    "\n",
    "c = ax.hist2d(x, y, bins = [9, 8],\n",
    "             range = [(1, 36), (0, 1)])\n",
    "\n",
    "ax.set_xlabel(\"풍속\")\n",
    "ax.set_ylabel(\"현황\")\n",
    "ax.set_xticks(c[1])\n",
    "ax.set_yticks(c[2])\n",
    "\n",
    "fig.colorbar(c[3], ax = ax)\n",
    "plt.show()"
   ]
  },
  {
   "cell_type": "markdown",
   "id": "f1ec3cc5",
   "metadata": {},
   "source": [
    "정상 출발한 항공편의 데이터를 분석한 결과, 제주 지역은 4.89 ~ 8.78 범위의 풍속의 빈도수가 높게 나타났다. "
   ]
  },
  {
   "cell_type": "code",
   "execution_count": 17,
   "id": "4a98d8d8",
   "metadata": {},
   "outputs": [
    {
     "data": {
      "image/png": "[encoded data removed]",
      "text/plain": [
       "<Figure size 720x576 with 2 Axes>"
      ]
     },
     "metadata": {
      "needs_background": "light"
     },
     "output_type": "display_data"
    }
   ],
   "source": [
    "x = cancel.풍속\n",
    "y = cancel.현황\n",
    "\n",
    "fig = plt.figure(figsize = (10, 8))\n",
    "ax = fig.add_subplot(111)\n",
    "\n",
    "c = ax.hist2d(x, y, bins = [9, 8],\n",
    "             range = [(1, 36), (0, 1)])\n",
    "\n",
    "ax.set_xlabel(\"풍속\")\n",
    "ax.set_ylabel(\"현황\")\n",
    "ax.set_xticks(c[1])\n",
    "ax.set_yticks(c[2])\n",
    "\n",
    "fig.colorbar(c[3], ax = ax)\n",
    "plt.show()"
   ]
  },
  {
   "cell_type": "markdown",
   "id": "a25ef645",
   "metadata": {},
   "source": [
    "풍속 데이터 상관관계 분석 결과, 풍속이 12.67 ~ 16.56인 경우에 결항이 많이 발생했다. <br>\n",
    "풍속의 수치가 높으면 결항이 발생할 확률이 높을 것이라는 가설은 기각되었다. "
   ]
  },
  {
   "cell_type": "markdown",
   "id": "8d8c7276",
   "metadata": {},
   "source": [
    "#### 전운량 데이터\n",
    "* 출발한 항공편의 데이터를 상관관계 분석한 결과로는 정상 출발한 제주 지역의 기상 상황을 알 수 있다.  "
   ]
  },
  {
   "cell_type": "code",
   "execution_count": 29,
   "id": "b7e2b226",
   "metadata": {},
   "outputs": [
    {
     "data": {
      "image/png": "[encoded data removed]",
      "text/plain": [
       "<Figure size 720x576 with 2 Axes>"
      ]
     },
     "metadata": {
      "needs_background": "light"
     },
     "output_type": "display_data"
    }
   ],
   "source": [
    "x = flight.전운량\n",
    "y = flight.현황\n",
    "\n",
    "fig = plt.figure(figsize = (10, 8))\n",
    "ax = fig.add_subplot(111)\n",
    "\n",
    "c = ax.hist2d(x, y, bins = [9, 8],\n",
    "             range = [(1, 36), (0, 1)])\n",
    "\n",
    "ax.set_xlabel(\"시정\")\n",
    "ax.set_ylabel(\"현황\")\n",
    "ax.set_xticks(c[1])\n",
    "ax.set_yticks(c[2])\n",
    "\n",
    "fig.colorbar(c[3], ax = ax)\n",
    "plt.show()"
   ]
  },
  {
   "cell_type": "code",
   "execution_count": 30,
   "id": "6c7b968f",
   "metadata": {},
   "outputs": [
    {
     "data": {
      "image/png": "[encoded data removed]",
      "text/plain": [
       "<Figure size 720x576 with 2 Axes>"
      ]
     },
     "metadata": {
      "needs_background": "light"
     },
     "output_type": "display_data"
    }
   ],
   "source": [
    "x = cancel.전운량\n",
    "y = cancel.현황\n",
    "\n",
    "fig = plt.figure(figsize = (10, 8))\n",
    "ax = fig.add_subplot(111)\n",
    "\n",
    "c = ax.hist2d(x, y, bins = [9, 8],\n",
    "             range = [(1, 36), (0, 1)])\n",
    "\n",
    "ax.set_xlabel(\"전운량\")\n",
    "ax.set_ylabel(\"현황\")\n",
    "ax.set_xticks(c[1])\n",
    "ax.set_yticks(c[2])\n",
    "\n",
    "fig.colorbar(c[3], ax = ax)\n",
    "plt.show()"
   ]
  },
  {
   "cell_type": "markdown",
   "id": "1dd99cca",
   "metadata": {},
   "source": [
    "전운량 데이터 상관관계 분석 결과, 시정이 4.89 ~ 8.78일 경우 결항이 많이 발생한다. <br>\n",
    "위의 분석으로 제주 지역의 전운량이 낮은 경향을 보이는 것을 알 수 있었으므로 전운량이 낮을수록 결항이 많이 발생한다고 단정 지을 수는 없다.  "
   ]
  },
  {
   "cell_type": "markdown",
   "id": "58529453",
   "metadata": {},
   "source": [
    "#### 최저운고 데이터\n",
    "* 출발한 항공편의 데이터를 상관관계 분석한 결과로는 정상 출발한 제주 지역의 기상 상황을 알 수 있다.  "
   ]
  },
  {
   "cell_type": "code",
   "execution_count": 31,
   "id": "6803d8af",
   "metadata": {},
   "outputs": [
    {
     "data": {
      "image/png": "[encoded data removed]",
      "text/plain": [
       "<Figure size 720x576 with 2 Axes>"
      ]
     },
     "metadata": {
      "needs_background": "light"
     },
     "output_type": "display_data"
    }
   ],
   "source": [
    "x = flight.최저운고\n",
    "y = flight.현황\n",
    "\n",
    "fig = plt.figure(figsize = (10, 8))\n",
    "ax = fig.add_subplot(111)\n",
    "\n",
    "c = ax.hist2d(x, y, bins = [9, 8],\n",
    "             range = [(1, 36), (0, 1)])\n",
    "\n",
    "ax.set_xlabel(\"최저운고\")\n",
    "ax.set_ylabel(\"현황\")\n",
    "ax.set_xticks(c[1])\n",
    "ax.set_yticks(c[2])\n",
    "\n",
    "fig.colorbar(c[3], ax = ax)\n",
    "plt.show()"
   ]
  },
  {
   "cell_type": "markdown",
   "id": "1c2144eb",
   "metadata": {},
   "source": [
    "정상 운항한 항공편 데이터 분석 결과, 28.22 ~ 32.11 범위의 최저운고가 자주 나타나는 것을 알 수 있다. "
   ]
  },
  {
   "cell_type": "code",
   "execution_count": 21,
   "id": "1af849ed",
   "metadata": {},
   "outputs": [
    {
     "data": {
      "image/png": "[encoded data removed]",
      "text/plain": [
       "<Figure size 720x576 with 2 Axes>"
      ]
     },
     "metadata": {
      "needs_background": "light"
     },
     "output_type": "display_data"
    }
   ],
   "source": [
    "x = cancel.최저운고\n",
    "y = cancel.현황\n",
    "\n",
    "fig = plt.figure(figsize = (10, 8))\n",
    "ax = fig.add_subplot(111)\n",
    "\n",
    "c = ax.hist2d(x, y, bins = [9, 8],\n",
    "             range = [(1, 36), (0, 1)])\n",
    "\n",
    "ax.set_xlabel(\"최저운고\")\n",
    "ax.set_ylabel(\"현황\")\n",
    "ax.set_xticks(c[1])\n",
    "ax.set_yticks(c[2])\n",
    "\n",
    "fig.colorbar(c[3], ax = ax)\n",
    "plt.show()"
   ]
  },
  {
   "cell_type": "markdown",
   "id": "6fc76e19",
   "metadata": {},
   "source": [
    "최저운고 데이터 상관관계 분석 결과, 최저운고가 8.78 ~ 12.67일 경우에 결항이 많이 발생한다. <br>\n",
    "제주지역의 최저운고는 28.22 ~ 32.11 범위가 자주 나타나기 때문에 결항 시의 최저운고 경향과는 다르다.<br>\n",
    "따라서, 최저운고가 낮을수록(구름의 높이가 낮을수록) 결항이 많이 발생한다는 결론을 내릴 수 있다. "
   ]
  },
  {
   "cell_type": "markdown",
   "id": "71888361",
   "metadata": {},
   "source": [
    "#### 기온 데이터\n",
    "* 출발한 항공편의 데이터를 상관관계 분석한 결과로는 정상 출발한 제주 지역의 기상 상황을 알 수 있다.  "
   ]
  },
  {
   "cell_type": "code",
   "execution_count": 32,
   "id": "68fde3ac",
   "metadata": {
    "scrolled": false
   },
   "outputs": [
    {
     "data": {
      "image/png": "[encoded data removed]",
      "text/plain": [
       "<Figure size 720x576 with 2 Axes>"
      ]
     },
     "metadata": {
      "needs_background": "light"
     },
     "output_type": "display_data"
    }
   ],
   "source": [
    "x = flight.기온\n",
    "y = flight.현황\n",
    "\n",
    "fig = plt.figure(figsize = (10, 8))\n",
    "ax = fig.add_subplot(111)\n",
    "\n",
    "c = ax.hist2d(x, y, bins = [9, 8],\n",
    "             range = [(1, 36), (0, 1)])\n",
    "\n",
    "ax.set_xlabel(\"기온\")\n",
    "ax.set_ylabel(\"현황\")\n",
    "ax.set_xticks(c[1])\n",
    "ax.set_yticks(c[2])\n",
    "\n",
    "fig.colorbar(c[3], ax = ax)\n",
    "plt.show()"
   ]
  },
  {
   "cell_type": "markdown",
   "id": "773e342f",
   "metadata": {},
   "source": [
    "정상 출발한 항공편 데이터의 분석 결과, 제주 지역의 기온은 20.44 ~ 24.33 범위에 속하는 경우가 많다는 결론을 내릴 수 있다. "
   ]
  },
  {
   "cell_type": "code",
   "execution_count": 22,
   "id": "60408c9b",
   "metadata": {},
   "outputs": [
    {
     "data": {
      "image/png": "[encoded data removed]",
      "text/plain": [
       "<Figure size 720x576 with 2 Axes>"
      ]
     },
     "metadata": {
      "needs_background": "light"
     },
     "output_type": "display_data"
    }
   ],
   "source": [
    "x = cancel.기온\n",
    "y = cancel.현황\n",
    "\n",
    "fig = plt.figure(figsize = (10, 8))\n",
    "ax = fig.add_subplot(111)\n",
    "\n",
    "c = ax.hist2d(x, y, bins = [9, 8],\n",
    "             range = [(1, 36), (0, 1)])\n",
    "\n",
    "ax.set_xlabel(\"기온\")\n",
    "ax.set_ylabel(\"현황\")\n",
    "ax.set_xticks(c[1])\n",
    "ax.set_yticks(c[2])\n",
    "\n",
    "fig.colorbar(c[3], ax = ax)\n",
    "plt.show()"
   ]
  },
  {
   "cell_type": "markdown",
   "id": "7d74398c",
   "metadata": {},
   "source": [
    "기온 데이터 상관관계 분석 결과, 기온이 24.33 ~ 28.22 범위에서 결항이 많이 발생한다는 것을 알 수 있다. <br>\n",
    "제주 지역은 20.44 ~ 24.33 범위를 가지는 경향이 있으므로, 빈도수가 높은 범위보다는 높은 기온이 나타나야 결항할 확률이 높다는 것을 의미한다. "
   ]
  },
  {
   "cell_type": "markdown",
   "id": "06a6fee5",
   "metadata": {},
   "source": [
    "#### 강수량 데이터\n",
    "* 출발한 항공편의 데이터를 상관관계 분석한 결과로는 정상 출발한 제주 지역의 기상 상황을 알 수 있다.  "
   ]
  },
  {
   "cell_type": "code",
   "execution_count": 33,
   "id": "1d4b9e68",
   "metadata": {
    "scrolled": false
   },
   "outputs": [
    {
     "data": {
      "image/png": "[encoded data removed]",
      "text/plain": [
       "<Figure size 720x576 with 2 Axes>"
      ]
     },
     "metadata": {
      "needs_background": "light"
     },
     "output_type": "display_data"
    }
   ],
   "source": [
    "x = flight.강수량\n",
    "y = flight.현황\n",
    "\n",
    "fig = plt.figure(figsize = (10, 8))\n",
    "ax = fig.add_subplot(111)\n",
    "\n",
    "c = ax.hist2d(x, y, bins = [9, 8],\n",
    "             range = [(1, 36), (0, 1)])\n",
    "\n",
    "ax.set_xlabel(\"강수량\")\n",
    "ax.set_ylabel(\"현황\")\n",
    "ax.set_xticks(c[1])\n",
    "ax.set_yticks(c[2])\n",
    "\n",
    "fig.colorbar(c[3], ax = ax)\n",
    "plt.show()"
   ]
  },
  {
   "cell_type": "markdown",
   "id": "47639c21",
   "metadata": {},
   "source": [
    "정상 출발한 항공편의 데이터 분석 결과, 제주 지역은 1 ~ 4.89 범위의 강수량이 많이 나타나는 경향을 보인다."
   ]
  },
  {
   "cell_type": "code",
   "execution_count": 35,
   "id": "1e8fce1e",
   "metadata": {},
   "outputs": [
    {
     "data": {
      "image/png": "[encoded data removed]",
      "text/plain": [
       "<Figure size 720x576 with 2 Axes>"
      ]
     },
     "metadata": {
      "needs_background": "light"
     },
     "output_type": "display_data"
    }
   ],
   "source": [
    "x = cancel.강수량\n",
    "y = cancel.현황\n",
    "\n",
    "fig = plt.figure(figsize = (10, 8))\n",
    "ax = fig.add_subplot(111)\n",
    "\n",
    "c = ax.hist2d(x, y, bins = [9, 8],\n",
    "             range = [(1, 36), (0, 1)])\n",
    "\n",
    "ax.set_xlabel(\"강수량\")\n",
    "ax.set_ylabel(\"현황\")\n",
    "ax.set_xticks(c[1])\n",
    "ax.set_yticks(c[2])\n",
    "\n",
    "fig.colorbar(c[3], ax = ax)\n",
    "plt.show()"
   ]
  },
  {
   "cell_type": "markdown",
   "id": "dc14685d",
   "metadata": {},
   "source": [
    "강수량 데이터 분석 결과, 위의 분석과 같이 1 ~ 4.89 범위에서 결항이 많이 발생한다. <br>\n",
    "제주 지역의 기상 경향을 따라가므로 '강수량이 높을수록 결항 확률이 높을 것이다'라는 가설은 기각되었다. "
   ]
  },
  {
   "cell_type": "markdown",
   "id": "7d62ef44",
   "metadata": {},
   "source": [
    "#### 적설 데이터\n",
    "* 출발한 항공편의 데이터를 상관관계 분석한 결과로는 정상 출발한 제주 지역의 기상 상황을 알 수 있다.  "
   ]
  },
  {
   "cell_type": "code",
   "execution_count": 36,
   "id": "b9eda36a",
   "metadata": {},
   "outputs": [
    {
     "data": {
      "image/png": "[encoded data removed]",
      "text/plain": [
       "<Figure size 720x576 with 2 Axes>"
      ]
     },
     "metadata": {
      "needs_background": "light"
     },
     "output_type": "display_data"
    }
   ],
   "source": [
    "x = flight.적설\n",
    "y = flight.현황\n",
    "\n",
    "fig = plt.figure(figsize = (10, 8))\n",
    "ax = fig.add_subplot(111)\n",
    "\n",
    "c = ax.hist2d(x, y, bins = [9, 8],\n",
    "             range = [(1, 36), (0, 1)])\n",
    "\n",
    "ax.set_xlabel(\"적설\")\n",
    "ax.set_ylabel(\"현황\")\n",
    "ax.set_xticks(c[1])\n",
    "ax.set_yticks(c[2])\n",
    "\n",
    "fig.colorbar(c[3], ax = ax)\n",
    "plt.show()"
   ]
  },
  {
   "cell_type": "markdown",
   "id": "b0901542",
   "metadata": {},
   "source": [
    "정상 출발한 항공편 데이터 분석 결과, 적설 데이터가 1 ~ 4.89 범위에 많이 속하는 경향을 보인다. "
   ]
  },
  {
   "cell_type": "code",
   "execution_count": 38,
   "id": "c3109b06",
   "metadata": {},
   "outputs": [
    {
     "data": {
      "image/png": "[encoded data removed]",
      "text/plain": [
       "<Figure size 720x576 with 2 Axes>"
      ]
     },
     "metadata": {
      "needs_background": "light"
     },
     "output_type": "display_data"
    }
   ],
   "source": [
    "x = cancel.적설\n",
    "y = cancel.현황\n",
    "\n",
    "fig = plt.figure(figsize = (10, 8))\n",
    "ax = fig.add_subplot(111)\n",
    "\n",
    "c = ax.hist2d(x, y, bins = [9, 8],\n",
    "             range = [(1, 36), (0, 1)])\n",
    "\n",
    "ax.set_xlabel(\"적설\")\n",
    "ax.set_ylabel(\"현황\")\n",
    "ax.set_xticks(c[1])\n",
    "ax.set_yticks(c[2])\n",
    "\n",
    "fig.colorbar(c[3], ax = ax)\n",
    "plt.show()"
   ]
  },
  {
   "cell_type": "markdown",
   "id": "db712b9a",
   "metadata": {},
   "source": [
    "적설 데이터 분석 결과, 적설 데이터가 28.22 ~ 32.11 범위에 결항이 많이 분포하는 경향을 보인다. <br>\n",
    "적설이 커질수록(눈이 많이 내릴수록) 결항 확률이 높다는 것을 의미한다."
   ]
  },
  {
   "cell_type": "markdown",
   "id": "207fc419",
   "metadata": {},
   "source": [
    "#### 신적설 데이터\n",
    "* 출발한 항공편의 데이터를 상관관계 분석한 결과로는 정상 출발한 제주 지역의 기상 상황을 알 수 있다.  "
   ]
  },
  {
   "cell_type": "code",
   "execution_count": 40,
   "id": "c96aa185",
   "metadata": {},
   "outputs": [
    {
     "data": {
      "image/png": "[encoded data removed]",
      "text/plain": [
       "<Figure size 720x576 with 2 Axes>"
      ]
     },
     "metadata": {
      "needs_background": "light"
     },
     "output_type": "display_data"
    }
   ],
   "source": [
    "x = flight.신적설\n",
    "y = flight.현황\n",
    "\n",
    "fig = plt.figure(figsize = (10, 8))\n",
    "ax = fig.add_subplot(111)\n",
    "\n",
    "c = ax.hist2d(x, y, bins = [9, 8],\n",
    "             range = [(1, 36), (0, 1)])\n",
    "\n",
    "ax.set_xlabel(\"신적설\")\n",
    "ax.set_ylabel(\"현황\")\n",
    "ax.set_xticks(c[1])\n",
    "ax.set_yticks(c[2])\n",
    "\n",
    "fig.colorbar(c[3], ax = ax)\n",
    "plt.show()"
   ]
  },
  {
   "cell_type": "markdown",
   "id": "f15d8811",
   "metadata": {},
   "source": [
    "정상 출발한 항공편 데이터 분석 결과, 신적설 데이터가 1 ~ 4.89 범위에 많이 속하는 경향을 보인다. "
   ]
  },
  {
   "cell_type": "code",
   "execution_count": 42,
   "id": "075c3dc4",
   "metadata": {},
   "outputs": [
    {
     "data": {
      "image/png": "[encoded data removed]",
      "text/plain": [
       "<Figure size 720x576 with 2 Axes>"
      ]
     },
     "metadata": {
      "needs_background": "light"
     },
     "output_type": "display_data"
    }
   ],
   "source": [
    "x = cancel.신적설\n",
    "y = cancel.현황\n",
    "\n",
    "fig = plt.figure(figsize = (10, 8))\n",
    "ax = fig.add_subplot(111)\n",
    "\n",
    "c = ax.hist2d(x, y, bins = [9, 8],\n",
    "             range = [(1, 36), (0, 1)])\n",
    "\n",
    "ax.set_xlabel(\"신적설\")\n",
    "ax.set_ylabel(\"현황\")\n",
    "ax.set_xticks(c[1])\n",
    "ax.set_yticks(c[2])\n",
    "\n",
    "fig.colorbar(c[3], ax = ax)\n",
    "plt.show()"
   ]
  },
  {
   "cell_type": "markdown",
   "id": "37d5eb01",
   "metadata": {},
   "source": [
    "적설 데이터 분석 결과, 신적설 데이터가 28.22 ~ 32.11 범위에 결항이 많이 분포하는 경향을 보인다. <br>\n",
    "신적설이 커질수록(눈이 많이 내릴수록, 쌓이는 눈이 많을수록) 결항 확률이 높다는 것을 의미한다."
   ]
  }
 ],
 "metadata": {
  "kernelspec": {
   "display_name": "Python 3 (ipykernel)",
   "language": "python",
   "name": "python3"
  },
  "language_info": {
   "codemirror_mode": {
    "name": "ipython",
    "version": 3
   },
   "file_extension": ".py",
   "mimetype": "text/x-python",
   "name": "python",
   "nbconvert_exporter": "python",
   "pygments_lexer": "ipython3",
   "version": "3.9.7"
  }
 },
 "nbformat": 4,
 "nbformat_minor": 5
}
