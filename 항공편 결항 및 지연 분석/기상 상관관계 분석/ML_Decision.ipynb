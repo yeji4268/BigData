{
 "cells": [
  {
   "cell_type": "markdown",
   "id": "fa9986f5",
   "metadata": {},
   "source": [
    "## 머신러닝으로 데이터 분석하기 : Decision Tree(의사결정 나무)\n",
    "---\n",
    "### 사용 패키지 준비"
   ]
  },
  {
   "cell_type": "code",
   "execution_count": 52,
   "id": "390383a1",
   "metadata": {},
   "outputs": [],
   "source": [
    "import pandas as pd\n",
    "import numpy as np\n",
    "from sklearn.model_selection import train_test_split\n",
    "from sklearn.preprocessing import StandardScaler\n",
    "from sklearn.tree import DecisionTreeClassifier\n",
    "import matplotlib.pyplot as plt\n",
    "from sklearn.tree import plot_tree\n",
    "from sklearn.metrics import confusion_matrix\n",
    "from sklearn.metrics import accuracy_score, precision_score, recall_score, f1_score\n",
    "from sklearn.metrics import roc_curve, roc_auc_score"
   ]
  },
  {
   "cell_type": "markdown",
   "id": "7058d78b",
   "metadata": {},
   "source": [
    "### 데이터 불러오기"
   ]
  },
  {
   "cell_type": "code",
   "execution_count": 35,
   "id": "61b73591",
   "metadata": {},
   "outputs": [
    {
     "data": {
      "text/html": [
       "<div>\n",
       "<style scoped>\n",
       "    .dataframe tbody tr th:only-of-type {\n",
       "        vertical-align: middle;\n",
       "    }\n",
       "\n",
       "    .dataframe tbody tr th {\n",
       "        vertical-align: top;\n",
       "    }\n",
       "\n",
       "    .dataframe thead th {\n",
       "        text-align: right;\n",
       "    }\n",
       "</style>\n",
       "<table border=\"1\" class=\"dataframe\">\n",
       "  <thead>\n",
       "    <tr style=\"text-align: right;\">\n",
       "      <th></th>\n",
       "      <th>풍향</th>\n",
       "      <th>풍속</th>\n",
       "      <th>시정</th>\n",
       "      <th>전운량</th>\n",
       "      <th>최저운고</th>\n",
       "      <th>기온</th>\n",
       "      <th>강수량</th>\n",
       "      <th>현황</th>\n",
       "    </tr>\n",
       "  </thead>\n",
       "  <tbody>\n",
       "    <tr>\n",
       "      <th>0</th>\n",
       "      <td>3</td>\n",
       "      <td>4</td>\n",
       "      <td>1000</td>\n",
       "      <td>4</td>\n",
       "      <td>25</td>\n",
       "      <td>1.4</td>\n",
       "      <td>0</td>\n",
       "      <td>0</td>\n",
       "    </tr>\n",
       "    <tr>\n",
       "      <th>1</th>\n",
       "      <td>33</td>\n",
       "      <td>5</td>\n",
       "      <td>1000</td>\n",
       "      <td>7</td>\n",
       "      <td>25</td>\n",
       "      <td>2.5</td>\n",
       "      <td>0</td>\n",
       "      <td>0</td>\n",
       "    </tr>\n",
       "    <tr>\n",
       "      <th>2</th>\n",
       "      <td>31</td>\n",
       "      <td>6</td>\n",
       "      <td>1000</td>\n",
       "      <td>2</td>\n",
       "      <td>25</td>\n",
       "      <td>3.7</td>\n",
       "      <td>0</td>\n",
       "      <td>0</td>\n",
       "    </tr>\n",
       "    <tr>\n",
       "      <th>3</th>\n",
       "      <td>32</td>\n",
       "      <td>6</td>\n",
       "      <td>1000</td>\n",
       "      <td>3</td>\n",
       "      <td>25</td>\n",
       "      <td>3.8</td>\n",
       "      <td>0</td>\n",
       "      <td>0</td>\n",
       "    </tr>\n",
       "    <tr>\n",
       "      <th>4</th>\n",
       "      <td>30</td>\n",
       "      <td>8</td>\n",
       "      <td>1000</td>\n",
       "      <td>7</td>\n",
       "      <td>25</td>\n",
       "      <td>4.2</td>\n",
       "      <td>0</td>\n",
       "      <td>0</td>\n",
       "    </tr>\n",
       "    <tr>\n",
       "      <th>...</th>\n",
       "      <td>...</td>\n",
       "      <td>...</td>\n",
       "      <td>...</td>\n",
       "      <td>...</td>\n",
       "      <td>...</td>\n",
       "      <td>...</td>\n",
       "      <td>...</td>\n",
       "      <td>...</td>\n",
       "    </tr>\n",
       "    <tr>\n",
       "      <th>144675</th>\n",
       "      <td>27</td>\n",
       "      <td>7</td>\n",
       "      <td>1000</td>\n",
       "      <td>0</td>\n",
       "      <td>180</td>\n",
       "      <td>15.3</td>\n",
       "      <td>0</td>\n",
       "      <td>0</td>\n",
       "    </tr>\n",
       "    <tr>\n",
       "      <th>144676</th>\n",
       "      <td>14</td>\n",
       "      <td>2</td>\n",
       "      <td>800</td>\n",
       "      <td>0</td>\n",
       "      <td>40</td>\n",
       "      <td>13.0</td>\n",
       "      <td>0</td>\n",
       "      <td>0</td>\n",
       "    </tr>\n",
       "    <tr>\n",
       "      <th>144677</th>\n",
       "      <td>36</td>\n",
       "      <td>10</td>\n",
       "      <td>600</td>\n",
       "      <td>7</td>\n",
       "      <td>15</td>\n",
       "      <td>1.3</td>\n",
       "      <td>0</td>\n",
       "      <td>0</td>\n",
       "    </tr>\n",
       "    <tr>\n",
       "      <th>144678</th>\n",
       "      <td>33</td>\n",
       "      <td>11</td>\n",
       "      <td>120</td>\n",
       "      <td>7</td>\n",
       "      <td>15</td>\n",
       "      <td>0.6</td>\n",
       "      <td>0</td>\n",
       "      <td>0</td>\n",
       "    </tr>\n",
       "    <tr>\n",
       "      <th>144679</th>\n",
       "      <td>23</td>\n",
       "      <td>23</td>\n",
       "      <td>1000</td>\n",
       "      <td>7</td>\n",
       "      <td>25</td>\n",
       "      <td>23.6</td>\n",
       "      <td>2</td>\n",
       "      <td>0</td>\n",
       "    </tr>\n",
       "  </tbody>\n",
       "</table>\n",
       "<p>144680 rows × 8 columns</p>\n",
       "</div>"
      ],
      "text/plain": [
       "        풍향  풍속    시정  전운량  최저운고    기온  강수량  현황\n",
       "0        3   4  1000    4    25   1.4    0   0\n",
       "1       33   5  1000    7    25   2.5    0   0\n",
       "2       31   6  1000    2    25   3.7    0   0\n",
       "3       32   6  1000    3    25   3.8    0   0\n",
       "4       30   8  1000    7    25   4.2    0   0\n",
       "...     ..  ..   ...  ...   ...   ...  ...  ..\n",
       "144675  27   7  1000    0   180  15.3    0   0\n",
       "144676  14   2   800    0    40  13.0    0   0\n",
       "144677  36  10   600    7    15   1.3    0   0\n",
       "144678  33  11   120    7    15   0.6    0   0\n",
       "144679  23  23  1000    7    25  23.6    2   0\n",
       "\n",
       "[144680 rows x 8 columns]"
      ]
     },
     "execution_count": 35,
     "metadata": {},
     "output_type": "execute_result"
    }
   ],
   "source": [
    "data = pd.read_csv(\"C:/Data/data.csv\")\n",
    "data = data.apply(pd.to_numeric, errors = 'coerce').fillna(0)\n",
    "data"
   ]
  },
  {
   "cell_type": "markdown",
   "id": "feabaa49",
   "metadata": {},
   "source": [
    "### 학습 데이터, 타겟 데이터 지정하기\n",
    "* 학습 데이터는 pandas의 DataFrame 타입으로 불러왔기 때문에 numpy 객체로 변환\n",
    "* 학습 데이터의 컬럼 : 풍향, 풍속, 시정, 전운량, 최저운고, 기온, 강수량\n",
    "* 타겟 데이터(예측할 데이터) : 현황"
   ]
  },
  {
   "cell_type": "code",
   "execution_count": 36,
   "id": "9260b28a",
   "metadata": {},
   "outputs": [],
   "source": [
    "# 학습 데이터 \n",
    "train_data = data[['풍향', '풍속', '시정', '전운량','최저운고', '기온', '강수량']].to_numpy()\n",
    "# 타겟 데이터 \n",
    "target = data['현황'].to_numpy()"
   ]
  },
  {
   "cell_type": "markdown",
   "id": "4d4dc463",
   "metadata": {},
   "source": [
    "### 테스트 셋 분리하기\n",
    "* train_test_split 사용 : 학습 데이터 셋, 테스트 데이터 셋 분리\n",
    "* test_size : 30%"
   ]
  },
  {
   "cell_type": "code",
   "execution_count": 37,
   "id": "a6f7fcfc",
   "metadata": {},
   "outputs": [
    {
     "name": "stdout",
     "output_type": "stream",
     "text": [
      "(101276, 7) (43404, 7)\n"
     ]
    }
   ],
   "source": [
    "train_input, test_input, train_target, test_target = train_test_split(train_data, target, test_size = 0.3)\n",
    "print(train_input.shape, test_input.shape)"
   ]
  },
  {
   "cell_type": "markdown",
   "id": "afb72a01",
   "metadata": {},
   "source": [
    "### 데이터 스케일링\n",
    "* 모든 속성의 데이터 분포, 범위를 동일하게 조정"
   ]
  },
  {
   "cell_type": "code",
   "execution_count": 38,
   "id": "3dd6d880",
   "metadata": {},
   "outputs": [],
   "source": [
    "# 스케일링 \n",
    "ss = StandardScaler()\n",
    "\n",
    "# 학습 데이터 \n",
    "ss.fit(train_input)\n",
    "\n",
    "# 데이터 스케일링(스케일 조정)\n",
    "train_scaled = ss.transform(train_input)\n",
    "test_scaled = ss.transform(test_input)"
   ]
  },
  {
   "cell_type": "markdown",
   "id": "0264a8b7",
   "metadata": {},
   "source": [
    "### 모델 학습시키기"
   ]
  },
  {
   "cell_type": "code",
   "execution_count": 39,
   "id": "6c867145",
   "metadata": {},
   "outputs": [
    {
     "data": {
      "text/plain": [
       "DecisionTreeClassifier()"
      ]
     },
     "execution_count": 39,
     "metadata": {},
     "output_type": "execute_result"
    }
   ],
   "source": [
    "model = DecisionTreeClassifier()\n",
    "model.fit(train_scaled, train_target)"
   ]
  },
  {
   "cell_type": "markdown",
   "id": "f2e640d8",
   "metadata": {},
   "source": [
    "### 의사결정나무 시각화"
   ]
  },
  {
   "cell_type": "code",
   "execution_count": 40,
   "id": "8129a2a7",
   "metadata": {},
   "outputs": [
    {
     "data": {
      "text/plain": [
       "<function matplotlib.pyplot.show(close=None, block=None)>"
      ]
     },
     "execution_count": 40,
     "metadata": {},
     "output_type": "execute_result"
    },
    {
     "data": {
      "image/png": "[encoded data removed]",
      "text/plain": [
       "<Figure size 720x504 with 1 Axes>"
      ]
     },
     "metadata": {
      "needs_background": "light"
     },
     "output_type": "display_data"
    }
   ],
   "source": [
    "plt.figure(figsize=(10,7))\n",
    "plot_tree(model)\n",
    "plt.show"
   ]
  },
  {
   "cell_type": "markdown",
   "id": "665d6391",
   "metadata": {},
   "source": [
    "### 모델 성능평가\n",
    "---\n",
    "#### 정확도"
   ]
  },
  {
   "cell_type": "code",
   "execution_count": 41,
   "id": "3146b9b3",
   "metadata": {},
   "outputs": [
    {
     "name": "stdout",
     "output_type": "stream",
     "text": [
      "학습 세트 정확도 : 0.9972550258699001\n",
      "테스트 세트 정확도: 0.9962215464012534\n"
     ]
    }
   ],
   "source": [
    "print(f\"학습 세트 정확도 : {model.score(train_scaled, train_target)}\")\n",
    "print(f\"테스트 세트 정확도: {model.score(test_scaled, test_target)}\")"
   ]
  },
  {
   "cell_type": "markdown",
   "id": "e7ceecca",
   "metadata": {},
   "source": [
    "#### 학습된 모델로 예측"
   ]
  },
  {
   "cell_type": "code",
   "execution_count": 42,
   "id": "aee7de7e",
   "metadata": {},
   "outputs": [],
   "source": [
    "y_pred = model.predict(test_scaled)"
   ]
  },
  {
   "cell_type": "markdown",
   "id": "af4cada5",
   "metadata": {},
   "source": [
    "#### 성능평가를 위해 혼동행렬 확인"
   ]
  },
  {
   "cell_type": "code",
   "execution_count": 43,
   "id": "fc153876",
   "metadata": {},
   "outputs": [
    {
     "name": "stdout",
     "output_type": "stream",
     "text": [
      "[[43019    38]\n",
      " [  126   221]]\n"
     ]
    }
   ],
   "source": [
    "print(confusion_matrix(test_target, y_pred))"
   ]
  },
  {
   "cell_type": "markdown",
   "id": "09643ec9",
   "metadata": {},
   "source": [
    "#### 혼동행렬 시각화"
   ]
  },
  {
   "cell_type": "code",
   "execution_count": 46,
   "id": "64e83557",
   "metadata": {},
   "outputs": [
    {
     "name": "stderr",
     "output_type": "stream",
     "text": [
      "C:\\Users\\yeji4\\anaconda3\\lib\\site-packages\\matplotlib\\backends\\backend_agg.py:240: RuntimeWarning: Glyph 50696 missing from current font.\n",
      "  font.set_text(s, 0.0, flags=flags)\n",
      "C:\\Users\\yeji4\\anaconda3\\lib\\site-packages\\matplotlib\\backends\\backend_agg.py:240: RuntimeWarning: Glyph 52769 missing from current font.\n",
      "  font.set_text(s, 0.0, flags=flags)\n",
      "C:\\Users\\yeji4\\anaconda3\\lib\\site-packages\\matplotlib\\backends\\backend_agg.py:240: RuntimeWarning: Glyph 44050 missing from current font.\n",
      "  font.set_text(s, 0.0, flags=flags)\n",
      "C:\\Users\\yeji4\\anaconda3\\lib\\site-packages\\matplotlib\\backends\\backend_agg.py:203: RuntimeWarning: Glyph 50696 missing from current font.\n",
      "  font.set_text(s, 0, flags=flags)\n",
      "C:\\Users\\yeji4\\anaconda3\\lib\\site-packages\\matplotlib\\backends\\backend_agg.py:203: RuntimeWarning: Glyph 52769 missing from current font.\n",
      "  font.set_text(s, 0, flags=flags)\n",
      "C:\\Users\\yeji4\\anaconda3\\lib\\site-packages\\matplotlib\\backends\\backend_agg.py:203: RuntimeWarning: Glyph 44050 missing from current font.\n",
      "  font.set_text(s, 0, flags=flags)\n"
     ]
    },
    {
     "data": {
      "text/plain": [
       "([<matplotlib.axis.XTick at 0x27a173229d0>,\n",
       "  <matplotlib.axis.XTick at 0x27a173229a0>],\n",
       " [Text(0.5, 0, 'True'), Text(1.5, 0, 'False')])"
      ]
     },
     "execution_count": 46,
     "metadata": {},
     "output_type": "execute_result"
    },
    {
     "data": {
      "image/png": "[encoded data removed]",
      "text/plain": [
       "<Figure size 432x288 with 2 Axes>"
      ]
     },
     "metadata": {
      "needs_background": "light"
     },
     "output_type": "display_data"
    }
   ],
   "source": [
    "from pandas import DataFrame\n",
    "import seaborn as sns\n",
    "import matplotlib.pyplot as plt\n",
    "\n",
    "d = {'예측값(P)' : [43019, 126],\n",
    "     '예측값(N)' : [38, 221]}\n",
    "d = DataFrame(d)\n",
    "\n",
    "sns.heatmap(d, annot = True, fmt = 'd', cmap = 'gist_yarg')\n",
    "plt.ylabel(\"Actual\")\n",
    "plt.yticks([0.5, 1.5], ['True', 'False'])\n",
    "plt.xlabel('Predicted')\n",
    "plt.xticks([0.5, 1.5], ['True', 'False'])"
   ]
  },
  {
   "cell_type": "markdown",
   "id": "8a347cef",
   "metadata": {},
   "source": [
    "#### 성능평가를 위한 4가지 조건\n",
    "* 정확도 : True를 True로 옳게 예측한 경우 + False를 False로 옳게 예측한 경우\n",
    "* 정밀도 : True라고 분류한 것 중에서 실제 True인 경우\n",
    "* 재현율 : 실제 True인 것 중에서 모델이 True라고 분류한 경우\n",
    "* F1 score : 정밀도와 재현율의 조화평균 "
   ]
  },
  {
   "cell_type": "code",
   "execution_count": 49,
   "id": "7eb47025",
   "metadata": {},
   "outputs": [
    {
     "name": "stdout",
     "output_type": "stream",
     "text": [
      "정확도 :  99.62\n",
      "정밀도 :  85.33\n",
      "재현율 :  63.69\n",
      "F1-score :  72.94\n"
     ]
    }
   ],
   "source": [
    "accuracy = accuracy_score(test_target, y_pred) * 100\n",
    "precision = precision_score(test_target, y_pred) * 100\n",
    "recall = recall_score(test_target, y_pred) * 100\n",
    "f1 = f1_score(test_target, y_pred) * 100\n",
    "print(\"정확도 : {: .2f}\".format(accuracy))\n",
    "print(\"정밀도 : {: .2f}\".format(precision))\n",
    "print(\"재현율 : {: .2f}\".format(recall))\n",
    "print(\"F1-score : {: .2f}\".format(f1))"
   ]
  },
  {
   "cell_type": "markdown",
   "id": "8dcf05d4",
   "metadata": {},
   "source": [
    "#### ROC 커브"
   ]
  },
  {
   "cell_type": "code",
   "execution_count": 50,
   "id": "d2e333e9",
   "metadata": {},
   "outputs": [
    {
     "data": {
      "text/plain": [
       "array([0., 0., 0., ..., 0., 0., 0.])"
      ]
     },
     "execution_count": 50,
     "metadata": {},
     "output_type": "execute_result"
    }
   ],
   "source": [
    "positive = model.predict_proba(test_scaled)[:, 1]\n",
    "positive"
   ]
  },
  {
   "cell_type": "code",
   "execution_count": 51,
   "id": "913bd975",
   "metadata": {},
   "outputs": [
    {
     "data": {
      "image/png": "[encoded data removed]",
      "text/plain": [
       "<Figure size 1080x360 with 1 Axes>"
      ]
     },
     "metadata": {
      "needs_background": "light"
     },
     "output_type": "display_data"
    }
   ],
   "source": [
    "fprs, tprs, thresholds = roc_curve(test_target, positive)\n",
    "\n",
    "precisions, recalls, thresholds = roc_curve(test_target, positive)\n",
    "\n",
    "plt.figure(figsize = (15, 5))\n",
    "plt.plot([0, 1], [0, 1], label = 'STR')\n",
    "plt.plot(fprs, tprs, label = \"ROC\")\n",
    "\n",
    "plt.xlabel('FPR')\n",
    "plt.ylabel('TPR')\n",
    "plt.legend()\n",
    "plt.grid()\n",
    "plt.show()"
   ]
  },
  {
   "cell_type": "markdown",
   "id": "f39f5ddb",
   "metadata": {},
   "source": [
    "#### AUROC 결과값으로 모델 평가\n",
    "---\n",
    "|AUC 결과값|결과|\n",
    "|-|-|\n",
    "|0.9 ~ 1|Excellent|\n",
    "|0.8 ~ 0.9|Good|\n",
    "|0.7 ~ 0.8|Normal|\n",
    "|0.6 ~ 0.7|Poor|\n",
    "|0.5 ~ 0.6|Fail|"
   ]
  },
  {
   "cell_type": "code",
   "execution_count": 53,
   "id": "38615a20",
   "metadata": {},
   "outputs": [
    {
     "name": "stdout",
     "output_type": "stream",
     "text": [
      "AUROC : 0.8180025285160833\n"
     ]
    }
   ],
   "source": [
    "print('AUROC : {}'.format(roc_auc_score(test_target, y_pred)))"
   ]
  },
  {
   "cell_type": "markdown",
   "id": "8fb5d337",
   "metadata": {},
   "source": [
    "AUROC 값은 0.81로, 모델 평가의 결과는 Good으로 나타났다. "
   ]
  }
 ],
 "metadata": {
  "kernelspec": {
   "display_name": "Python 3 (ipykernel)",
   "language": "python",
   "name": "python3"
  },
  "language_info": {
   "codemirror_mode": {
    "name": "ipython",
    "version": 3
   },
   "file_extension": ".py",
   "mimetype": "text/x-python",
   "name": "python",
   "nbconvert_exporter": "python",
   "pygments_lexer": "ipython3",
   "version": "3.9.7"
  }
 },
 "nbformat": 4,
 "nbformat_minor": 5
}
