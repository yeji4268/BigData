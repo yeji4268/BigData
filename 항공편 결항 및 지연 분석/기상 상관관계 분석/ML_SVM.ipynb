{
 "cells": [
  {
   "cell_type": "markdown",
   "id": "bd0e9ea4",
   "metadata": {},
   "source": [
    "## 머신러닝으로 데이터 분석하기 : SVM\n",
    "---\n",
    "### 사용 패키지 준비"
   ]
  },
  {
   "cell_type": "code",
   "execution_count": 53,
   "id": "426e9542",
   "metadata": {},
   "outputs": [],
   "source": [
    "import pandas as pd\n",
    "import numpy as np\n",
    "from sklearn import svm\n",
    "from sklearn.model_selection import train_test_split\n",
    "from sklearn.svm import SVC\n",
    "from sklearn.svm import SVR\n",
    "import matplotlib.pyplot as plt\n",
    "from sklearn.metrics import confusion_matrix\n",
    "from sklearn.metrics import accuracy_score, precision_score, recall_score, f1_score"
   ]
  },
  {
   "cell_type": "markdown",
   "id": "e4c9a19c",
   "metadata": {},
   "source": [
    "### 데이터 불러오기"
   ]
  },
  {
   "cell_type": "code",
   "execution_count": 54,
   "id": "6e4efd4b",
   "metadata": {},
   "outputs": [
    {
     "name": "stderr",
     "output_type": "stream",
     "text": [
      "C:\\Users\\yeji4\\anaconda3\\lib\\site-packages\\IPython\\core\\interactiveshell.py:3444: DtypeWarning: Columns (3,4) have mixed types.Specify dtype option on import or set low_memory=False.\n",
      "  exec(code_obj, self.user_global_ns, self.user_ns)\n"
     ]
    },
    {
     "data": {
      "text/html": [
       "<div>\n",
       "<style scoped>\n",
       "    .dataframe tbody tr th:only-of-type {\n",
       "        vertical-align: middle;\n",
       "    }\n",
       "\n",
       "    .dataframe tbody tr th {\n",
       "        vertical-align: top;\n",
       "    }\n",
       "\n",
       "    .dataframe thead th {\n",
       "        text-align: right;\n",
       "    }\n",
       "</style>\n",
       "<table border=\"1\" class=\"dataframe\">\n",
       "  <thead>\n",
       "    <tr style=\"text-align: right;\">\n",
       "      <th></th>\n",
       "      <th>전운량</th>\n",
       "      <th>최저운고</th>\n",
       "      <th>강수량</th>\n",
       "      <th>기온</th>\n",
       "      <th>시정</th>\n",
       "      <th>풍향</th>\n",
       "      <th>풍속</th>\n",
       "      <th>현황</th>\n",
       "    </tr>\n",
       "  </thead>\n",
       "  <tbody>\n",
       "    <tr>\n",
       "      <th>0</th>\n",
       "      <td>7</td>\n",
       "      <td>35</td>\n",
       "      <td>0</td>\n",
       "      <td>7.6</td>\n",
       "      <td>1000.0</td>\n",
       "      <td>20</td>\n",
       "      <td>4</td>\n",
       "      <td>0</td>\n",
       "    </tr>\n",
       "    <tr>\n",
       "      <th>1</th>\n",
       "      <td>6</td>\n",
       "      <td>35</td>\n",
       "      <td>0</td>\n",
       "      <td>6.8</td>\n",
       "      <td>1000.0</td>\n",
       "      <td>19</td>\n",
       "      <td>5</td>\n",
       "      <td>0</td>\n",
       "    </tr>\n",
       "    <tr>\n",
       "      <th>2</th>\n",
       "      <td>3</td>\n",
       "      <td>35</td>\n",
       "      <td>0</td>\n",
       "      <td>5.6</td>\n",
       "      <td>1000.0</td>\n",
       "      <td>18</td>\n",
       "      <td>6</td>\n",
       "      <td>0</td>\n",
       "    </tr>\n",
       "    <tr>\n",
       "      <th>3</th>\n",
       "      <td>3</td>\n",
       "      <td>35</td>\n",
       "      <td>0</td>\n",
       "      <td>5.6</td>\n",
       "      <td>1000.0</td>\n",
       "      <td>18</td>\n",
       "      <td>6</td>\n",
       "      <td>0</td>\n",
       "    </tr>\n",
       "    <tr>\n",
       "      <th>4</th>\n",
       "      <td>3</td>\n",
       "      <td>35</td>\n",
       "      <td>0</td>\n",
       "      <td>5.6</td>\n",
       "      <td>1000.0</td>\n",
       "      <td>18</td>\n",
       "      <td>6</td>\n",
       "      <td>0</td>\n",
       "    </tr>\n",
       "    <tr>\n",
       "      <th>...</th>\n",
       "      <td>...</td>\n",
       "      <td>...</td>\n",
       "      <td>...</td>\n",
       "      <td>...</td>\n",
       "      <td>...</td>\n",
       "      <td>...</td>\n",
       "      <td>...</td>\n",
       "      <td>...</td>\n",
       "    </tr>\n",
       "    <tr>\n",
       "      <th>143239</th>\n",
       "      <td>7</td>\n",
       "      <td>5</td>\n",
       "      <td>0</td>\n",
       "      <td>2.2</td>\n",
       "      <td>500.0</td>\n",
       "      <td>31</td>\n",
       "      <td>14</td>\n",
       "      <td>1</td>\n",
       "    </tr>\n",
       "    <tr>\n",
       "      <th>143240</th>\n",
       "      <td>7</td>\n",
       "      <td>5</td>\n",
       "      <td>0</td>\n",
       "      <td>2.2</td>\n",
       "      <td>500.0</td>\n",
       "      <td>31</td>\n",
       "      <td>14</td>\n",
       "      <td>1</td>\n",
       "    </tr>\n",
       "    <tr>\n",
       "      <th>143241</th>\n",
       "      <td>7</td>\n",
       "      <td>5</td>\n",
       "      <td>0</td>\n",
       "      <td>2.2</td>\n",
       "      <td>500.0</td>\n",
       "      <td>31</td>\n",
       "      <td>14</td>\n",
       "      <td>1</td>\n",
       "    </tr>\n",
       "    <tr>\n",
       "      <th>143242</th>\n",
       "      <td>7</td>\n",
       "      <td>10</td>\n",
       "      <td>0</td>\n",
       "      <td>2.5</td>\n",
       "      <td>500.0</td>\n",
       "      <td>33</td>\n",
       "      <td>14</td>\n",
       "      <td>1</td>\n",
       "    </tr>\n",
       "    <tr>\n",
       "      <th>143243</th>\n",
       "      <td>7</td>\n",
       "      <td>10</td>\n",
       "      <td>0</td>\n",
       "      <td>2.5</td>\n",
       "      <td>500.0</td>\n",
       "      <td>33</td>\n",
       "      <td>14</td>\n",
       "      <td>1</td>\n",
       "    </tr>\n",
       "  </tbody>\n",
       "</table>\n",
       "<p>143244 rows × 8 columns</p>\n",
       "</div>"
      ],
      "text/plain": [
       "        전운량  최저운고  강수량   기온      시정  풍향  풍속  현황\n",
       "0         7    35    0  7.6  1000.0  20   4   0\n",
       "1         6    35    0  6.8  1000.0  19   5   0\n",
       "2         3    35    0  5.6  1000.0  18   6   0\n",
       "3         3    35    0  5.6  1000.0  18   6   0\n",
       "4         3    35    0  5.6  1000.0  18   6   0\n",
       "...     ...   ...  ...  ...     ...  ..  ..  ..\n",
       "143239    7     5    0  2.2   500.0  31  14   1\n",
       "143240    7     5    0  2.2   500.0  31  14   1\n",
       "143241    7     5    0  2.2   500.0  31  14   1\n",
       "143242    7    10    0  2.5   500.0  33  14   1\n",
       "143243    7    10    0  2.5   500.0  33  14   1\n",
       "\n",
       "[143244 rows x 8 columns]"
      ]
     },
     "execution_count": 54,
     "metadata": {},
     "output_type": "execute_result"
    }
   ],
   "source": [
    "data = pd.read_csv('C:/Projects/data.csv', encoding = 'cp949')\n",
    "data = data.apply(pd.to_numeric, errors='coerce').fillna(0)\n",
    "data"
   ]
  },
  {
   "cell_type": "markdown",
   "id": "4c7359de",
   "metadata": {},
   "source": [
    "### 학습 데이터, 타겟 데이터 지정하기\n",
    "* 학습 데이터는 pandas의 DataFrame 타입으로 불러왔기 때문에 numpy 객체로 변환\n",
    "* 학습 데이터의 컬럼 : 풍향, 풍속, 시정, 전운량, 최저운고, 기온, 강수량\n",
    "* 타겟 데이터(예측할 데이터) : 현황"
   ]
  },
  {
   "cell_type": "code",
   "execution_count": 55,
   "id": "c9e6487c",
   "metadata": {},
   "outputs": [],
   "source": [
    "# 학습 데이터 \n",
    "train_data = data[['풍향', '풍속', '시정', '전운량','최저운고', '기온', '강수량']].to_numpy()\n",
    "# 타겟 데이터 \n",
    "target = data['현황'].to_numpy()"
   ]
  },
  {
   "cell_type": "markdown",
   "id": "0bd1596f",
   "metadata": {},
   "source": [
    "### 테스트 셋 분리하기\n",
    "* train_test_split 사용 : 학습 데이터 셋, 테스트 데이터 셋 분리\n",
    "* test_size : 30%"
   ]
  },
  {
   "cell_type": "code",
   "execution_count": 56,
   "id": "79af4d9b",
   "metadata": {},
   "outputs": [],
   "source": [
    "train_input, test_input, train_target, test_target = train_test_split(train_data, target, test_size = 0.3)"
   ]
  },
  {
   "cell_type": "markdown",
   "id": "1de46031",
   "metadata": {},
   "source": [
    "### 모델 학습시키기\n",
    "* gamma : 결정 경계의 곡률(0.01로 설정)"
   ]
  },
  {
   "cell_type": "code",
   "execution_count": 57,
   "id": "6139fedd",
   "metadata": {},
   "outputs": [],
   "source": [
    "model = SVC(gamma=0.01).fit(train_input, train_target)"
   ]
  },
  {
   "cell_type": "markdown",
   "id": "8f41f26f",
   "metadata": {},
   "source": [
    "### 모델 성능평가\n",
    "---\n",
    "#### 정확도"
   ]
  },
  {
   "cell_type": "code",
   "execution_count": 59,
   "id": "2df55ed6",
   "metadata": {},
   "outputs": [
    {
     "name": "stdout",
     "output_type": "stream",
     "text": [
      "훈련 세트 정확도: 0.9402314\n",
      "테스트 세트 정확도: 0.9387769\n"
     ]
    }
   ],
   "source": [
    "print(\"훈련 세트 정확도: {:.7f}\".format(model.score(train_input, train_target)))\n",
    "print(\"테스트 세트 정확도: {:.7f}\".format(model.score(test_input, test_target)))"
   ]
  },
  {
   "cell_type": "markdown",
   "id": "197d037e",
   "metadata": {},
   "source": [
    "#### 학습된 모델로 예측"
   ]
  },
  {
   "cell_type": "code",
   "execution_count": 60,
   "id": "969e7d08",
   "metadata": {},
   "outputs": [],
   "source": [
    "y_pred = model.predict(train_input)"
   ]
  },
  {
   "cell_type": "markdown",
   "id": "a6f6b506",
   "metadata": {},
   "source": [
    "#### 성능평가를 위해 혼동행렬 확인"
   ]
  },
  {
   "cell_type": "code",
   "execution_count": 65,
   "id": "e9686979",
   "metadata": {},
   "outputs": [
    {
     "name": "stdout",
     "output_type": "stream",
     "text": [
      "[[47439  4142]\n",
      " [ 1851 46838]]\n"
     ]
    }
   ],
   "source": [
    "print(confusion_matrix(train_target, y_pred))"
   ]
  },
  {
   "cell_type": "markdown",
   "id": "c36d43b6",
   "metadata": {},
   "source": [
    "#### 혼동행렬 시각화"
   ]
  },
  {
   "cell_type": "code",
   "execution_count": 64,
   "id": "0f4e7a6c",
   "metadata": {},
   "outputs": [
    {
     "data": {
      "text/plain": [
       "([<matplotlib.axis.XTick at 0x244889269d0>,\n",
       "  <matplotlib.axis.XTick at 0x244889269a0>],\n",
       " [Text(0.5, 0, 'True'), Text(1.5, 0, 'False')])"
      ]
     },
     "execution_count": 64,
     "metadata": {},
     "output_type": "execute_result"
    },
    {
     "data": {
      "image/png": "[encoded data removed]",
      "text/plain": [
       "<Figure size 432x288 with 2 Axes>"
      ]
     },
     "metadata": {
      "needs_background": "light"
     },
     "output_type": "display_data"
    }
   ],
   "source": [
    "from pandas import DataFrame\n",
    "import seaborn as sns\n",
    "import matplotlib.pyplot as plt\n",
    "\n",
    "svm = {'예측값(P)' : [47439, 1851],\n",
    "      '예측값(N)' : [4142, 46838]}\n",
    "svm = DataFrame(svm)\n",
    "\n",
    "sns.heatmap(svm, annot = True, fmt = 'd', cmap = 'gist_yarg')\n",
    "plt.ylabel(\"Actual\")\n",
    "plt.yticks([0.5, 1.5], ['True', 'False'])\n",
    "plt.xlabel('Predicted')\n",
    "plt.xticks([0.5, 1.5], ['True', 'False'])"
   ]
  },
  {
   "cell_type": "markdown",
   "id": "f38f3857",
   "metadata": {},
   "source": [
    "#### 성능평가를 위한 4가지 조건\n",
    "* 정확도 : True를 True로 옳게 예측한 경우 + False를 False로 옳게 예측한 경우\n",
    "* 정밀도 : True라고 분류한 것 중에서 실제 True인 경우\n",
    "* 재현율 : 실제 True인 것 중에서 모델이 True라고 분류한 경우\n",
    "* F1 score : 정밀도와 재현율의 조화평균 "
   ]
  },
  {
   "cell_type": "code",
   "execution_count": 62,
   "id": "1f5071ba",
   "metadata": {},
   "outputs": [
    {
     "name": "stdout",
     "output_type": "stream",
     "text": [
      "정확도 :  94.02\n",
      "정밀도 :  91.88\n",
      "재현율 :  96.20\n",
      "F1-score :  93.99\n"
     ]
    }
   ],
   "source": [
    "print(\"정확도 : {: .2f}\".format(accuracy_score(train_target, y_pred) * 100))\n",
    "print(\"정밀도 : {: .2f}\".format(precision_score(train_target, y_pred) * 100))\n",
    "print(\"재현율 : {: .2f}\".format(recall_score(train_target, y_pred) * 100))\n",
    "print(\"F1-score : {: .2f}\".format(f1_score(train_target, y_pred) * 100))"
   ]
  }
 ],
 "metadata": {
  "kernelspec": {
   "display_name": "Python 3 (ipykernel)",
   "language": "python",
   "name": "python3"
  },
  "language_info": {
   "codemirror_mode": {
    "name": "ipython",
    "version": 3
   },
   "file_extension": ".py",
   "mimetype": "text/x-python",
   "name": "python",
   "nbconvert_exporter": "python",
   "pygments_lexer": "ipython3",
   "version": "3.9.7"
  }
 },
 "nbformat": 4,
 "nbformat_minor": 5
}
