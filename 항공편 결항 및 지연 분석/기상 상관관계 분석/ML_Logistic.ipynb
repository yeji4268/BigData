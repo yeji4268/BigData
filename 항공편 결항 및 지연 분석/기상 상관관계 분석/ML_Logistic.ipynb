{
 "cells": [
  {
   "cell_type": "markdown",
   "id": "fac5f755",
   "metadata": {},
   "source": [
    "## 머신러닝으로 데이터 분석하기 : Logistic Regression(로지스틱 회귀)\n",
    "---\n",
    "### 사용 패키지 준비"
   ]
  },
  {
   "cell_type": "code",
   "execution_count": 58,
   "id": "e6c5e9f3",
   "metadata": {},
   "outputs": [],
   "source": [
    "import pandas as pd\n",
    "from sklearn.model_selection import train_test_split\n",
    "from sklearn.preprocessing import StandardScaler\n",
    "from sklearn.linear_model import LogisticRegression\n",
    "from sklearn.tree import DecisionTreeClassifier\n",
    "import matplotlib.pyplot as plt\n",
    "from sklearn.tree import plot_tree\n",
    "from sklearn.metrics import confusion_matrix\n",
    "from sklearn.metrics import accuracy_score, precision_score, recall_score, f1_score\n",
    "from sklearn.metrics import roc_curve, roc_auc_score"
   ]
  },
  {
   "cell_type": "markdown",
   "id": "7590808a",
   "metadata": {},
   "source": [
    "### 데이터 불러오기"
   ]
  },
  {
   "cell_type": "code",
   "execution_count": 59,
   "id": "0b9f809a",
   "metadata": {},
   "outputs": [
    {
     "data": {
      "text/html": [
       "<div>\n",
       "<style scoped>\n",
       "    .dataframe tbody tr th:only-of-type {\n",
       "        vertical-align: middle;\n",
       "    }\n",
       "\n",
       "    .dataframe tbody tr th {\n",
       "        vertical-align: top;\n",
       "    }\n",
       "\n",
       "    .dataframe thead th {\n",
       "        text-align: right;\n",
       "    }\n",
       "</style>\n",
       "<table border=\"1\" class=\"dataframe\">\n",
       "  <thead>\n",
       "    <tr style=\"text-align: right;\">\n",
       "      <th></th>\n",
       "      <th>전운량</th>\n",
       "      <th>최저운고</th>\n",
       "      <th>강수량</th>\n",
       "      <th>기온</th>\n",
       "      <th>시정</th>\n",
       "      <th>풍향</th>\n",
       "      <th>풍속</th>\n",
       "      <th>현황</th>\n",
       "    </tr>\n",
       "  </thead>\n",
       "  <tbody>\n",
       "    <tr>\n",
       "      <th>0</th>\n",
       "      <td>7</td>\n",
       "      <td>35</td>\n",
       "      <td>0</td>\n",
       "      <td>7.6</td>\n",
       "      <td>1000.0</td>\n",
       "      <td>20</td>\n",
       "      <td>4</td>\n",
       "      <td>0</td>\n",
       "    </tr>\n",
       "    <tr>\n",
       "      <th>1</th>\n",
       "      <td>6</td>\n",
       "      <td>35</td>\n",
       "      <td>0</td>\n",
       "      <td>6.8</td>\n",
       "      <td>1000.0</td>\n",
       "      <td>19</td>\n",
       "      <td>5</td>\n",
       "      <td>0</td>\n",
       "    </tr>\n",
       "    <tr>\n",
       "      <th>2</th>\n",
       "      <td>3</td>\n",
       "      <td>35</td>\n",
       "      <td>0</td>\n",
       "      <td>5.6</td>\n",
       "      <td>1000.0</td>\n",
       "      <td>18</td>\n",
       "      <td>6</td>\n",
       "      <td>0</td>\n",
       "    </tr>\n",
       "    <tr>\n",
       "      <th>3</th>\n",
       "      <td>3</td>\n",
       "      <td>35</td>\n",
       "      <td>0</td>\n",
       "      <td>5.6</td>\n",
       "      <td>1000.0</td>\n",
       "      <td>18</td>\n",
       "      <td>6</td>\n",
       "      <td>0</td>\n",
       "    </tr>\n",
       "    <tr>\n",
       "      <th>4</th>\n",
       "      <td>3</td>\n",
       "      <td>35</td>\n",
       "      <td>0</td>\n",
       "      <td>5.6</td>\n",
       "      <td>1000.0</td>\n",
       "      <td>18</td>\n",
       "      <td>6</td>\n",
       "      <td>0</td>\n",
       "    </tr>\n",
       "    <tr>\n",
       "      <th>...</th>\n",
       "      <td>...</td>\n",
       "      <td>...</td>\n",
       "      <td>...</td>\n",
       "      <td>...</td>\n",
       "      <td>...</td>\n",
       "      <td>...</td>\n",
       "      <td>...</td>\n",
       "      <td>...</td>\n",
       "    </tr>\n",
       "    <tr>\n",
       "      <th>143239</th>\n",
       "      <td>7</td>\n",
       "      <td>5</td>\n",
       "      <td>0</td>\n",
       "      <td>2.2</td>\n",
       "      <td>500.0</td>\n",
       "      <td>31</td>\n",
       "      <td>14</td>\n",
       "      <td>1</td>\n",
       "    </tr>\n",
       "    <tr>\n",
       "      <th>143240</th>\n",
       "      <td>7</td>\n",
       "      <td>5</td>\n",
       "      <td>0</td>\n",
       "      <td>2.2</td>\n",
       "      <td>500.0</td>\n",
       "      <td>31</td>\n",
       "      <td>14</td>\n",
       "      <td>1</td>\n",
       "    </tr>\n",
       "    <tr>\n",
       "      <th>143241</th>\n",
       "      <td>7</td>\n",
       "      <td>5</td>\n",
       "      <td>0</td>\n",
       "      <td>2.2</td>\n",
       "      <td>500.0</td>\n",
       "      <td>31</td>\n",
       "      <td>14</td>\n",
       "      <td>1</td>\n",
       "    </tr>\n",
       "    <tr>\n",
       "      <th>143242</th>\n",
       "      <td>7</td>\n",
       "      <td>10</td>\n",
       "      <td>0</td>\n",
       "      <td>2.5</td>\n",
       "      <td>500.0</td>\n",
       "      <td>33</td>\n",
       "      <td>14</td>\n",
       "      <td>1</td>\n",
       "    </tr>\n",
       "    <tr>\n",
       "      <th>143243</th>\n",
       "      <td>7</td>\n",
       "      <td>10</td>\n",
       "      <td>0</td>\n",
       "      <td>2.5</td>\n",
       "      <td>500.0</td>\n",
       "      <td>33</td>\n",
       "      <td>14</td>\n",
       "      <td>1</td>\n",
       "    </tr>\n",
       "  </tbody>\n",
       "</table>\n",
       "<p>143244 rows × 8 columns</p>\n",
       "</div>"
      ],
      "text/plain": [
       "        전운량  최저운고  강수량   기온      시정  풍향  풍속  현황\n",
       "0         7    35    0  7.6  1000.0  20   4   0\n",
       "1         6    35    0  6.8  1000.0  19   5   0\n",
       "2         3    35    0  5.6  1000.0  18   6   0\n",
       "3         3    35    0  5.6  1000.0  18   6   0\n",
       "4         3    35    0  5.6  1000.0  18   6   0\n",
       "...     ...   ...  ...  ...     ...  ..  ..  ..\n",
       "143239    7     5    0  2.2   500.0  31  14   1\n",
       "143240    7     5    0  2.2   500.0  31  14   1\n",
       "143241    7     5    0  2.2   500.0  31  14   1\n",
       "143242    7    10    0  2.5   500.0  33  14   1\n",
       "143243    7    10    0  2.5   500.0  33  14   1\n",
       "\n",
       "[143244 rows x 8 columns]"
      ]
     },
     "execution_count": 59,
     "metadata": {},
     "output_type": "execute_result"
    }
   ],
   "source": [
    "data = pd.read_csv('C:/Data/data.csv')\n",
    "data = data_csv.apply(pd.to_numeric, errors='coerce').fillna(0)\n",
    "data"
   ]
  },
  {
   "cell_type": "markdown",
   "id": "44e4b681",
   "metadata": {},
   "source": [
    "### 학습 데이터, 타겟 데이터 지정하기\n",
    "* 학습 데이터는 pandas의 DataFrame 타입으로 불러왔기 때문에 numpy 객체로 변환\n",
    "* 학습 데이터의 컬럼 : 풍향, 풍속, 시정, 전운량, 최저운고, 기온, 강수량\n",
    "* 타겟 데이터(예측할 데이터) : 현황"
   ]
  },
  {
   "cell_type": "code",
   "execution_count": 60,
   "id": "2bacbd24",
   "metadata": {},
   "outputs": [],
   "source": [
    "# 학습 데이터 \n",
    "train_data = data[['전운량', '최저운고', '강수량', '기온', '시정', '풍향', '풍속']].to_numpy()\n",
    "# 타겟 데이터 \n",
    "target = data['현황'].to_numpy()"
   ]
  },
  {
   "cell_type": "markdown",
   "id": "e8df0869",
   "metadata": {},
   "source": [
    "### 테스트 셋 분리하기\n",
    "* train_test_split 사용 : 학습 데이터 셋, 테스트 데이터 셋 분리\n",
    "* test_size : 30%"
   ]
  },
  {
   "cell_type": "code",
   "execution_count": 61,
   "id": "577a1593",
   "metadata": {},
   "outputs": [
    {
     "name": "stdout",
     "output_type": "stream",
     "text": [
      "(100270, 7) (42974, 7)\n"
     ]
    }
   ],
   "source": [
    "train_input, test_input, train_target, test_target = train_test_split(\n",
    "train_data, target, test_size = 0.3)\n",
    "# 데이터 셋 분리 확인\n",
    "print(train_input.shape, test_input.shape)"
   ]
  },
  {
   "cell_type": "markdown",
   "id": "82bc3677",
   "metadata": {},
   "source": [
    "#### 데이터 스케일링 \n",
    "* 모든 속성의 데이터 분포, 범위를 동일하게 조정"
   ]
  },
  {
   "cell_type": "code",
   "execution_count": 62,
   "id": "48d9748e",
   "metadata": {},
   "outputs": [],
   "source": [
    "# 스케일링 \n",
    "ss = StandardScaler()\n",
    "\n",
    "# 학습 데이터 \n",
    "ss.fit(train_input)\n",
    "\n",
    "# 데이터 스케일링(스케일 조정)\n",
    "train_scaled = ss.transform(train_input)\n",
    "test_scaled = ss.transform(test_input)"
   ]
  },
  {
   "cell_type": "markdown",
   "id": "869d6c86",
   "metadata": {},
   "source": [
    "#### 모델 학습시키기\n",
    "* C : 제약조건의 강도 설정(높으면 낮은 강도의 제약조건)\n",
    "* max_iter : 계산에 사용할 작업 수"
   ]
  },
  {
   "cell_type": "code",
   "execution_count": 63,
   "id": "b777c9c8",
   "metadata": {},
   "outputs": [
    {
     "data": {
      "text/plain": [
       "LogisticRegression(C=20, max_iter=100000)"
      ]
     },
     "execution_count": 63,
     "metadata": {},
     "output_type": "execute_result"
    }
   ],
   "source": [
    "# 로지스틱 회귀\n",
    "model = LogisticRegression(C=20,max_iter=100000)\n",
    "\n",
    "# 학습\n",
    "model.fit(train_scaled, train_target)"
   ]
  },
  {
   "cell_type": "markdown",
   "id": "b43555e2",
   "metadata": {},
   "source": [
    "### 모델 성능평가\n",
    "---\n",
    "#### 정확도"
   ]
  },
  {
   "cell_type": "code",
   "execution_count": 64,
   "id": "12f3a663",
   "metadata": {},
   "outputs": [
    {
     "name": "stdout",
     "output_type": "stream",
     "text": [
      "학습 세트 정확도 : 0.717851800139623\n",
      "테스트 세트 정확도: 0.7176897659049658\n"
     ]
    }
   ],
   "source": [
    "print(f\"학습 세트 정확도 : {model.score(train_scaled, train_target)}\")\n",
    "print(f\"테스트 세트 정확도: {model.score(test_scaled, test_target)}\")"
   ]
  },
  {
   "cell_type": "markdown",
   "id": "000695f0",
   "metadata": {},
   "source": [
    "#### 학습된 모델로 예측"
   ]
  },
  {
   "cell_type": "code",
   "execution_count": 65,
   "id": "4ecec48e",
   "metadata": {},
   "outputs": [],
   "source": [
    "y_pred = model.predict(test_scaled)"
   ]
  },
  {
   "cell_type": "markdown",
   "id": "4dad8b7a",
   "metadata": {},
   "source": [
    "#### 성능평가를 위해 혼동행렬 확인"
   ]
  },
  {
   "cell_type": "code",
   "execution_count": 68,
   "id": "ed85503e",
   "metadata": {},
   "outputs": [
    {
     "name": "stdout",
     "output_type": "stream",
     "text": [
      "[[16983  4949]\n",
      " [ 7183 13859]]\n"
     ]
    }
   ],
   "source": [
    "print(confusion_matrix(test_target, y_pred))"
   ]
  },
  {
   "cell_type": "markdown",
   "id": "c879a3cb",
   "metadata": {},
   "source": [
    "#### 혼동행렬 시각화"
   ]
  },
  {
   "cell_type": "code",
   "execution_count": 69,
   "id": "dd5f1b1f",
   "metadata": {},
   "outputs": [
    {
     "name": "stderr",
     "output_type": "stream",
     "text": [
      "C:\\Users\\yeji4\\anaconda3\\lib\\site-packages\\matplotlib\\backends\\backend_agg.py:240: RuntimeWarning: Glyph 50696 missing from current font.\n",
      "  font.set_text(s, 0.0, flags=flags)\n",
      "C:\\Users\\yeji4\\anaconda3\\lib\\site-packages\\matplotlib\\backends\\backend_agg.py:240: RuntimeWarning: Glyph 52769 missing from current font.\n",
      "  font.set_text(s, 0.0, flags=flags)\n",
      "C:\\Users\\yeji4\\anaconda3\\lib\\site-packages\\matplotlib\\backends\\backend_agg.py:240: RuntimeWarning: Glyph 44050 missing from current font.\n",
      "  font.set_text(s, 0.0, flags=flags)\n",
      "C:\\Users\\yeji4\\anaconda3\\lib\\site-packages\\matplotlib\\backends\\backend_agg.py:203: RuntimeWarning: Glyph 50696 missing from current font.\n",
      "  font.set_text(s, 0, flags=flags)\n",
      "C:\\Users\\yeji4\\anaconda3\\lib\\site-packages\\matplotlib\\backends\\backend_agg.py:203: RuntimeWarning: Glyph 52769 missing from current font.\n",
      "  font.set_text(s, 0, flags=flags)\n",
      "C:\\Users\\yeji4\\anaconda3\\lib\\site-packages\\matplotlib\\backends\\backend_agg.py:203: RuntimeWarning: Glyph 44050 missing from current font.\n",
      "  font.set_text(s, 0, flags=flags)\n"
     ]
    },
    {
     "data": {
      "text/plain": [
       "([<matplotlib.axis.XTick at 0x272a4f5ba90>,\n",
       "  <matplotlib.axis.XTick at 0x272a4f5ba60>],\n",
       " [Text(0.5, 0, 'True'), Text(1.5, 0, 'False')])"
      ]
     },
     "execution_count": 69,
     "metadata": {},
     "output_type": "execute_result"
    },
    {
     "data": {
      "image/png": "[encoded data removed]",
      "text/plain": [
       "<Figure size 432x288 with 2 Axes>"
      ]
     },
     "metadata": {
      "needs_background": "light"
     },
     "output_type": "display_data"
    }
   ],
   "source": [
    "from pandas import DataFrame\n",
    "import seaborn as sns\n",
    "import matplotlib.pyplot as plt\n",
    "\n",
    "lr = {'예측값(P)' : [16993, 7283],\n",
    "     '예측값(N)' : [4949, 13859]}\n",
    "lr = DataFrame(lr)\n",
    "\n",
    "sns.heatmap(lr, annot = True, fmt = 'd', cmap = 'gist_yarg')\n",
    "plt.ylabel(\"Actual\")\n",
    "plt.yticks([0.5, 1.5], ['True', 'False'])\n",
    "plt.xlabel('Predicted')\n",
    "plt.xticks([0.5, 1.5], ['True', 'False'])"
   ]
  },
  {
   "cell_type": "markdown",
   "id": "9c396481",
   "metadata": {},
   "source": [
    "#### 성능평가를 위한 4가지 조건\n",
    "* 정확도 : True를 True로 옳게 예측한 경우 + False를 False로 옳게 예측한 경우\n",
    "* 정밀도 : True라고 분류한 것 중에서 실제 True인 경우\n",
    "* 재현율 : 실제 True인 것 중에서 모델이 True라고 분류한 경우\n",
    "* F1 score : 정밀도와 재현율의 조화평균 "
   ]
  },
  {
   "cell_type": "code",
   "execution_count": 70,
   "id": "cf0315c3",
   "metadata": {},
   "outputs": [
    {
     "name": "stdout",
     "output_type": "stream",
     "text": [
      "정확도 :  71.77\n",
      "정밀도 :  73.69\n",
      "재현율 :  65.86\n",
      "F1-score :  69.56\n"
     ]
    }
   ],
   "source": [
    "print(\"정확도 : {: .2f}\".format(accuracy_score(test_target, y_pred) * 100))\n",
    "print(\"정밀도 : {: .2f}\".format(precision_score(test_target, y_pred) * 100))\n",
    "print(\"재현율 : {: .2f}\".format(recall_score(test_target, y_pred) * 100))\n",
    "print(\"F1-score : {: .2f}\".format(f1_score(test_target, y_pred) * 100))"
   ]
  },
  {
   "cell_type": "markdown",
   "id": "291b8f49",
   "metadata": {},
   "source": [
    "#### ROC 커브"
   ]
  },
  {
   "cell_type": "code",
   "execution_count": 71,
   "id": "955127c9",
   "metadata": {},
   "outputs": [
    {
     "data": {
      "text/plain": [
       "array([0.41257455, 0.11390539, 0.42399478, ..., 0.37899928, 0.96253384,\n",
       "       0.15299805])"
      ]
     },
     "execution_count": 71,
     "metadata": {},
     "output_type": "execute_result"
    }
   ],
   "source": [
    "positive = model.predict_proba(test_scaled)[:, 1]\n",
    "positive"
   ]
  },
  {
   "cell_type": "code",
   "execution_count": 72,
   "id": "e92f3635",
   "metadata": {},
   "outputs": [
    {
     "data": {
      "image/png": "[encoded data removed]",
      "text/plain": [
       "<Figure size 1080x360 with 1 Axes>"
      ]
     },
     "metadata": {
      "needs_background": "light"
     },
     "output_type": "display_data"
    }
   ],
   "source": [
    "fprs, tprs, thresholds = roc_curve(test_target, positive)\n",
    "\n",
    "precisions, recalls, thresholds = roc_curve(test_target, positive)\n",
    "\n",
    "plt.figure(figsize = (15, 5))\n",
    "plt.plot([0, 1], [0, 1], label = 'STR')\n",
    "plt.plot(fprs, tprs, label = \"ROC\")\n",
    "\n",
    "plt.xlabel('FPR')\n",
    "plt.ylabel('TPR')\n",
    "plt.legend()\n",
    "plt.grid()\n",
    "plt.show()"
   ]
  },
  {
   "cell_type": "markdown",
   "id": "8afefea4",
   "metadata": {},
   "source": [
    "#### AUROC 결과값으로 모델 평가\n",
    "---\n",
    "|AUC 결과값|결과|\n",
    "|-|-|\n",
    "|0.9 ~ 1|Excellent|\n",
    "|0.8 ~ 0.9|Good|\n",
    "|0.7 ~ 0.8|Normal|\n",
    "|0.6 ~ 0.7|Poor|\n",
    "|0.5 ~ 0.6|Fail|"
   ]
  },
  {
   "cell_type": "code",
   "execution_count": 73,
   "id": "3db68a39",
   "metadata": {},
   "outputs": [
    {
     "name": "stdout",
     "output_type": "stream",
     "text": [
      "AUROC : 0.7164915477054193\n"
     ]
    }
   ],
   "source": [
    "print('AUROC : {}'.format(roc_auc_score(test_target, y_pred)))"
   ]
  },
  {
   "cell_type": "markdown",
   "id": "98c728b3",
   "metadata": {},
   "source": [
    "AUROC 값은 0.81로, 모델 평가의 결과는 Normal으로 나타났다. "
   ]
  }
 ],
 "metadata": {
  "kernelspec": {
   "display_name": "Python 3 (ipykernel)",
   "language": "python",
   "name": "python3"
  },
  "language_info": {
   "codemirror_mode": {
    "name": "ipython",
    "version": 3
   },
   "file_extension": ".py",
   "mimetype": "text/x-python",
   "name": "python",
   "nbconvert_exporter": "python",
   "pygments_lexer": "ipython3",
   "version": "3.9.7"
  }
 },
 "nbformat": 4,
 "nbformat_minor": 5
}
