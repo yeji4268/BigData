{
 "cells": [
  {
   "cell_type": "markdown",
   "id": "336b167c",
   "metadata": {},
   "source": [
    "## 항공 스케줄 분석 & 시각화 : 지연 & 결항 분석\n",
    "---\n",
    "### 시각화 기본 패키지 & 데이터 불러오기"
   ]
  },
  {
   "cell_type": "code",
   "execution_count": 55,
   "id": "2d9d0a8c",
   "metadata": {},
   "outputs": [],
   "source": [
    "import matplotlib.pyplot as plt\n",
    "import pandas as pd\n",
    "import matplotlib.font_manager as fm\n",
    "\n",
    "# 폰트 설정\n",
    "font_path = \"C:/Windows/Fonts/malgunbd.ttf\"\n",
    "font = fm.FontProperties(fname = font_path).get_name()\n",
    "plt.rc('font', family = font)"
   ]
  },
  {
   "cell_type": "code",
   "execution_count": 56,
   "id": "077e682b",
   "metadata": {},
   "outputs": [
    {
     "data": {
      "text/html": [
       "<div>\n",
       "<style scoped>\n",
       "    .dataframe tbody tr th:only-of-type {\n",
       "        vertical-align: middle;\n",
       "    }\n",
       "\n",
       "    .dataframe tbody tr th {\n",
       "        vertical-align: top;\n",
       "    }\n",
       "\n",
       "    .dataframe thead th {\n",
       "        text-align: right;\n",
       "    }\n",
       "</style>\n",
       "<table border=\"1\" class=\"dataframe\">\n",
       "  <thead>\n",
       "    <tr style=\"text-align: right;\">\n",
       "      <th></th>\n",
       "      <th>연도</th>\n",
       "      <th>월</th>\n",
       "      <th>일</th>\n",
       "      <th>항공사</th>\n",
       "      <th>편명</th>\n",
       "      <th>도착</th>\n",
       "      <th>계획</th>\n",
       "      <th>예상</th>\n",
       "      <th>출발</th>\n",
       "      <th>구분</th>\n",
       "      <th>현황</th>\n",
       "    </tr>\n",
       "  </thead>\n",
       "  <tbody>\n",
       "    <tr>\n",
       "      <th>0</th>\n",
       "      <td>2017</td>\n",
       "      <td>1</td>\n",
       "      <td>31</td>\n",
       "      <td>대한항공</td>\n",
       "      <td>KE1902</td>\n",
       "      <td>제주(CJU)-&gt;광주(KWJ)</td>\n",
       "      <td>8</td>\n",
       "      <td>8</td>\n",
       "      <td>8</td>\n",
       "      <td>여객</td>\n",
       "      <td>출발</td>\n",
       "    </tr>\n",
       "    <tr>\n",
       "      <th>1</th>\n",
       "      <td>2017</td>\n",
       "      <td>1</td>\n",
       "      <td>31</td>\n",
       "      <td>대한항공</td>\n",
       "      <td>KE1904</td>\n",
       "      <td>제주(CJU)-&gt;광주(KWJ)</td>\n",
       "      <td>11</td>\n",
       "      <td>11</td>\n",
       "      <td>12</td>\n",
       "      <td>여객</td>\n",
       "      <td>출발</td>\n",
       "    </tr>\n",
       "    <tr>\n",
       "      <th>2</th>\n",
       "      <td>2017</td>\n",
       "      <td>1</td>\n",
       "      <td>31</td>\n",
       "      <td>대한항공</td>\n",
       "      <td>KE1906</td>\n",
       "      <td>제주(CJU)-&gt;광주(KWJ)</td>\n",
       "      <td>15</td>\n",
       "      <td>15</td>\n",
       "      <td>15</td>\n",
       "      <td>여객</td>\n",
       "      <td>출발</td>\n",
       "    </tr>\n",
       "    <tr>\n",
       "      <th>3</th>\n",
       "      <td>2017</td>\n",
       "      <td>1</td>\n",
       "      <td>31</td>\n",
       "      <td>대한항공</td>\n",
       "      <td>KE1900</td>\n",
       "      <td>제주(CJU)-&gt;광주(KWJ)</td>\n",
       "      <td>16</td>\n",
       "      <td>17</td>\n",
       "      <td>16</td>\n",
       "      <td>여객</td>\n",
       "      <td>지연</td>\n",
       "    </tr>\n",
       "    <tr>\n",
       "      <th>4</th>\n",
       "      <td>2017</td>\n",
       "      <td>1</td>\n",
       "      <td>31</td>\n",
       "      <td>대한항공</td>\n",
       "      <td>KE1908</td>\n",
       "      <td>제주(CJU)-&gt;광주(KWJ)</td>\n",
       "      <td>18</td>\n",
       "      <td>18</td>\n",
       "      <td>18</td>\n",
       "      <td>여객</td>\n",
       "      <td>출발</td>\n",
       "    </tr>\n",
       "    <tr>\n",
       "      <th>...</th>\n",
       "      <td>...</td>\n",
       "      <td>...</td>\n",
       "      <td>...</td>\n",
       "      <td>...</td>\n",
       "      <td>...</td>\n",
       "      <td>...</td>\n",
       "      <td>...</td>\n",
       "      <td>...</td>\n",
       "      <td>...</td>\n",
       "      <td>...</td>\n",
       "      <td>...</td>\n",
       "    </tr>\n",
       "    <tr>\n",
       "      <th>72335</th>\n",
       "      <td>2021</td>\n",
       "      <td>12</td>\n",
       "      <td>2</td>\n",
       "      <td>대한항공</td>\n",
       "      <td>KE1958</td>\n",
       "      <td>제주(CJU)-&gt;청주(CJJ)</td>\n",
       "      <td>16</td>\n",
       "      <td>16</td>\n",
       "      <td>16</td>\n",
       "      <td>여객</td>\n",
       "      <td>지연</td>\n",
       "    </tr>\n",
       "    <tr>\n",
       "      <th>72336</th>\n",
       "      <td>2021</td>\n",
       "      <td>12</td>\n",
       "      <td>1</td>\n",
       "      <td>대한항공</td>\n",
       "      <td>KE1952</td>\n",
       "      <td>제주(CJU)-&gt;청주(CJJ)</td>\n",
       "      <td>7</td>\n",
       "      <td>7</td>\n",
       "      <td>7</td>\n",
       "      <td>여객</td>\n",
       "      <td>출발</td>\n",
       "    </tr>\n",
       "    <tr>\n",
       "      <th>72337</th>\n",
       "      <td>2021</td>\n",
       "      <td>12</td>\n",
       "      <td>1</td>\n",
       "      <td>대한항공</td>\n",
       "      <td>KE1956</td>\n",
       "      <td>제주(CJU)-&gt;청주(CJJ)</td>\n",
       "      <td>14</td>\n",
       "      <td>14</td>\n",
       "      <td>15</td>\n",
       "      <td>여객</td>\n",
       "      <td>지연</td>\n",
       "    </tr>\n",
       "    <tr>\n",
       "      <th>72338</th>\n",
       "      <td>2021</td>\n",
       "      <td>12</td>\n",
       "      <td>1</td>\n",
       "      <td>대한항공</td>\n",
       "      <td>KE1958</td>\n",
       "      <td>제주(CJU)-&gt;청주(CJJ)</td>\n",
       "      <td>16</td>\n",
       "      <td>16</td>\n",
       "      <td>16</td>\n",
       "      <td>여객</td>\n",
       "      <td>출발</td>\n",
       "    </tr>\n",
       "    <tr>\n",
       "      <th>72339</th>\n",
       "      <td>2021</td>\n",
       "      <td>12</td>\n",
       "      <td>1</td>\n",
       "      <td>대한항공</td>\n",
       "      <td>KE1958</td>\n",
       "      <td>제주(CJU)-&gt;청주(CJJ)</td>\n",
       "      <td>16</td>\n",
       "      <td>16</td>\n",
       "      <td>16</td>\n",
       "      <td>여객</td>\n",
       "      <td>출발</td>\n",
       "    </tr>\n",
       "  </tbody>\n",
       "</table>\n",
       "<p>72340 rows × 11 columns</p>\n",
       "</div>"
      ],
      "text/plain": [
       "         연도   월   일   항공사      편명                도착  계획  예상  출발  구분  현황\n",
       "0      2017   1  31  대한항공  KE1902  제주(CJU)->광주(KWJ)   8   8   8  여객  출발\n",
       "1      2017   1  31  대한항공  KE1904  제주(CJU)->광주(KWJ)  11  11  12  여객  출발\n",
       "2      2017   1  31  대한항공  KE1906  제주(CJU)->광주(KWJ)  15  15  15  여객  출발\n",
       "3      2017   1  31  대한항공  KE1900  제주(CJU)->광주(KWJ)  16  17  16  여객  지연\n",
       "4      2017   1  31  대한항공  KE1908  제주(CJU)->광주(KWJ)  18  18  18  여객  출발\n",
       "...     ...  ..  ..   ...     ...               ...  ..  ..  ..  ..  ..\n",
       "72335  2021  12   2  대한항공  KE1958  제주(CJU)->청주(CJJ)  16  16  16  여객  지연\n",
       "72336  2021  12   1  대한항공  KE1952  제주(CJU)->청주(CJJ)   7   7   7  여객  출발\n",
       "72337  2021  12   1  대한항공  KE1956  제주(CJU)->청주(CJJ)  14  14  15  여객  지연\n",
       "72338  2021  12   1  대한항공  KE1958  제주(CJU)->청주(CJJ)  16  16  16  여객  출발\n",
       "72339  2021  12   1  대한항공  KE1958  제주(CJU)->청주(CJJ)  16  16  16  여객  출발\n",
       "\n",
       "[72340 rows x 11 columns]"
      ]
     },
     "execution_count": 56,
     "metadata": {},
     "output_type": "execute_result"
    }
   ],
   "source": [
    "# 데이터 불러오기\n",
    "s = pd.read_csv(\"C:/Data/schedule_pre/schedule.csv\")\n",
    "s.drop('Unnamed: 0', axis = 1, inplace = True)\n",
    "s"
   ]
  },
  {
   "cell_type": "markdown",
   "id": "c7f92165",
   "metadata": {},
   "source": [
    "### 지연 분석\n",
    "---"
   ]
  },
  {
   "cell_type": "markdown",
   "id": "ea638fd2",
   "metadata": {},
   "source": [
    "#### 월별 지연 비교"
   ]
  },
  {
   "cell_type": "code",
   "execution_count": 57,
   "id": "31fc5e6c",
   "metadata": {},
   "outputs": [
    {
     "data": {
      "text/plain": [
       "1007"
      ]
     },
     "execution_count": 57,
     "metadata": {},
     "output_type": "execute_result"
    }
   ],
   "source": [
    "m_1 = len(s[(s.월 == 1) & (s.현황 == \"지연\")])\n",
    "m_2 = len(s[(s.월 == 2) & (s.현황 == \"지연\")])\n",
    "m_3 = len(s[(s.월 == 3) & (s.현황 == \"지연\")])\n",
    "m_4 = len(s[(s.월 == 4) & (s.현황 == \"지연\")])\n",
    "m_5 = len(s[(s.월 == 5) & (s.현황 == \"지연\")])\n",
    "m_6 = len(s[(s.월 == 6) & (s.현황 == \"지연\")])\n",
    "m_7 = len(s[(s.월 == 7) & (s.현황 == \"지연\")])\n",
    "m_8 = len(s[(s.월 == 8) & (s.현황 == \"지연\")])\n",
    "m_9 = len(s[(s.월 == 9) & (s.현황 == \"지연\")])\n",
    "m_10 = len(s[(s.월 == 10) & (s.현황 == \"지연\")])\n",
    "m_11 = len(s[(s.월 == 11) & (s.현황 == \"지연\")])\n",
    "m_12 = len(s[(s.월 == 12) & (s.현황 == \"지연\")])\n",
    "m_1"
   ]
  },
  {
   "cell_type": "code",
   "execution_count": 58,
   "id": "a022a8e0",
   "metadata": {
    "scrolled": true
   },
   "outputs": [
    {
     "data": {
      "image/png": "[encoded data removed]",
      "text/plain": [
       "<Figure size 432x288 with 1 Axes>"
      ]
     },
     "metadata": {
      "needs_background": "light"
     },
     "output_type": "display_data"
    }
   ],
   "source": [
    "plt.bar(['1월', '2월', '3월', '4월', '5월', '6월', '7월', '8월', '9월', '10월', '11월', '12월'], \n",
    "        [m_1, m_2, m_3, m_4, m_5, m_6, m_7, m_8, m_9, m_10, m_11, m_12], color = 'grey')\n",
    "plt.title(\"월별 지연 수\")\n",
    "plt.ylabel(\"지연 수\")\n",
    "plt.show()"
   ]
  },
  {
   "cell_type": "markdown",
   "id": "dc488417",
   "metadata": {},
   "source": [
    "#### 분석 결과\n",
    "---\n",
    "월별 지연 수 분석 결과 1위는 4월, 2위는 11월로 나타났다. 지연에는 다양한 요인이 있고, 대부분이 인적 요인이기 때문에 요인을 정확히 판단 내리기는 힘들다. "
   ]
  },
  {
   "cell_type": "markdown",
   "id": "1940f582",
   "metadata": {},
   "source": [
    "#### 시간별 지연 비교"
   ]
  },
  {
   "cell_type": "code",
   "execution_count": 59,
   "id": "5ca5a949",
   "metadata": {},
   "outputs": [],
   "source": [
    "s.계획.unique()\n",
    "h = ['6시', '7시', '8시', '9시', '10시', '11시', '12시', '13시', '14시', '15시', '16시', '17시', '18시', '19시', '20시', '21시']"
   ]
  },
  {
   "cell_type": "code",
   "execution_count": 60,
   "id": "b77a7119",
   "metadata": {},
   "outputs": [
    {
     "data": {
      "text/plain": [
       "769"
      ]
     },
     "execution_count": 60,
     "metadata": {},
     "output_type": "execute_result"
    }
   ],
   "source": [
    "h_6 = len(s[(s.계획 == 6) & (s.현황 == \"지연\")])\n",
    "h_7 = len(s[(s.계획 == 7) & (s.현황 == \"지연\")])\n",
    "h_8 = len(s[(s.계획 == 8) & (s.현황 == \"지연\")])\n",
    "h_9 = len(s[(s.계획 == 9) & (s.현황 == \"지연\")])\n",
    "h_10 = len(s[(s.계획 == 10) & (s.현황 == \"지연\")])\n",
    "h_11 = len(s[(s.계획 == 11) & (s.현황 == \"지연\")])\n",
    "h_12 = len(s[(s.계획 == 12) & (s.현황 == \"지연\")])\n",
    "h_13 = len(s[(s.계획 == 13) & (s.현황 == \"지연\")])\n",
    "h_14 = len(s[(s.계획 == 14) & (s.현황 == \"지연\")])\n",
    "h_15 = len(s[(s.계획 == 15) & (s.현황 == \"지연\")])\n",
    "h_16 = len(s[(s.계획 == 16) & (s.현황 == \"지연\")])\n",
    "h_17 = len(s[(s.계획 == 17) & (s.현황 == \"지연\")])\n",
    "h_18 = len(s[(s.계획 == 18) & (s.현황 == \"지연\")])\n",
    "h_19 = len(s[(s.계획 == 19) & (s.현황 == \"지연\")])\n",
    "h_20 = len(s[(s.계획 == 20) & (s.현황 == \"지연\")])\n",
    "h_21 = len(s[(s.계획 == 21) & (s.현황 == \"지연\")])\n",
    "h_12"
   ]
  },
  {
   "cell_type": "code",
   "execution_count": 61,
   "id": "6bc738f5",
   "metadata": {},
   "outputs": [
    {
     "data": {
      "image/png": "[encoded data removed]",
      "text/plain": [
       "<Figure size 432x288 with 1 Axes>"
      ]
     },
     "metadata": {
      "needs_background": "light"
     },
     "output_type": "display_data"
    }
   ],
   "source": [
    "plt.plot(h, \n",
    "         [h_6, h_7, h_8, h_9,h_10, h_11, h_12, h_13, h_14, h_15, h_16, h_17, h_18, h_19, h_20, h_21],\n",
    "        marker = 'o')\n",
    "plt.show()"
   ]
  },
  {
   "cell_type": "markdown",
   "id": "00c0305f",
   "metadata": {},
   "source": [
    "#### 분석 결과\n",
    "---\n",
    "시간별 지연 빈도 분석 결과, 15시, 20시의 지연 수가 높게 나타났다. 1위는 15시로 나타났다. 상대적으로 저녁에 비해 활동량이 많은 낮 시간대인 15시에 지연 빈도가 높은 것은 주목할만한 수치이다. 또한, 낮 시간대에 활동하고 항공편을 저녁에 이용하는 경우도 있을 수 있는데, 20시에 지연의 수가 높다는 것도 또한 주목할 필요가 있다. "
   ]
  },
  {
   "cell_type": "markdown",
   "id": "0df6febf",
   "metadata": {},
   "source": [
    "### 결항 분석\n",
    "---"
   ]
  },
  {
   "cell_type": "markdown",
   "id": "0188d994",
   "metadata": {},
   "source": [
    "#### 월별 결항 분석"
   ]
  },
  {
   "cell_type": "code",
   "execution_count": 62,
   "id": "c90a1203",
   "metadata": {},
   "outputs": [
    {
     "data": {
      "text/plain": [
       "89"
      ]
     },
     "execution_count": 62,
     "metadata": {},
     "output_type": "execute_result"
    }
   ],
   "source": [
    "M_1 = len(s[(s.월 == 1) & (s.현황 == \"결항\")])\n",
    "M_2 = len(s[(s.월 == 2) & (s.현황 == \"결항\")])\n",
    "M_3 = len(s[(s.월 == 3) & (s.현황 == \"결항\")])\n",
    "M_4 = len(s[(s.월 == 4) & (s.현황 == \"결항\")])\n",
    "M_5 = len(s[(s.월 == 5) & (s.현황 == \"결항\")])\n",
    "M_6 = len(s[(s.월 == 6) & (s.현황 == \"결항\")])\n",
    "M_7 = len(s[(s.월 == 7) & (s.현황 == \"결항\")])\n",
    "M_8 = len(s[(s.월 == 8) & (s.현황 == \"결항\")])\n",
    "M_9 = len(s[(s.월 == 9) & (s.현황 == \"결항\")])\n",
    "M_10 = len(s[(s.월 == 10) & (s.현황 == \"결항\")])\n",
    "M_11 = len(s[(s.월 == 11) & (s.현황 == \"결항\")])\n",
    "M_12 = len(s[(s.월 == 12) & (s.현황 == \"결항\")])\n",
    "M_1"
   ]
  },
  {
   "cell_type": "code",
   "execution_count": 64,
   "id": "18282817",
   "metadata": {
    "scrolled": true
   },
   "outputs": [
    {
     "data": {
      "image/png": "[encoded data removed]",
      "text/plain": [
       "<Figure size 432x288 with 1 Axes>"
      ]
     },
     "metadata": {
      "needs_background": "light"
     },
     "output_type": "display_data"
    }
   ],
   "source": [
    "plt.bar(['1월', '2월', '3월', '4월', '5월', '6월', '7월', '8월', '9월', '10월', '11월', '12월'], \n",
    "        [M_1, M_2, M_3, M_4, M_5, M_6, M_7, M_8, M_9, M_10, M_11, M_12], color = 'grey')\n",
    "plt.title(\"월별 결항 수\")\n",
    "plt.ylabel(\"결항 수\")\n",
    "plt.show()"
   ]
  },
  {
   "cell_type": "markdown",
   "id": "229ec353",
   "metadata": {},
   "source": [
    "#### 분석 결과\n",
    "---\n",
    "월별 결항 수 분석 결과, 1위는 8월로 나타났다. 이어서 1월은 2위로 나타났다. 결항은 기상요인이 많은 비율을 차지한다. 8월은 태풍과 장마가 많이 발생하고, 1월은 다른 달에 비해 폭설이 발생하는 것이 요인으로 추정된다. 결항 수가 높은 1월과 8월에 항공편 이용 시, 결항 확률이 높으니 이용객의 일정 수립에 주의를 요한다.  \n"
   ]
  },
  {
   "cell_type": "markdown",
   "id": "4442600e",
   "metadata": {},
   "source": [
    "#### 시간별 결항 분석"
   ]
  },
  {
   "cell_type": "code",
   "execution_count": 70,
   "id": "806e05e1",
   "metadata": {},
   "outputs": [],
   "source": [
    "s.계획.unique()\n",
    "H = ['6시', '7시', '8시', '9시', '10시', '11시', '12시', '13시', '14시', '15시', '16시', '17시', '18시', '19시', '20시', '21시']"
   ]
  },
  {
   "cell_type": "code",
   "execution_count": 71,
   "id": "a5211872",
   "metadata": {},
   "outputs": [
    {
     "data": {
      "text/plain": [
       "22"
      ]
     },
     "execution_count": 71,
     "metadata": {},
     "output_type": "execute_result"
    }
   ],
   "source": [
    "H_6 = len(s[(s.계획 == 6) & (s.현황 == \"결항\")])\n",
    "H_7 = len(s[(s.계획 == 7) & (s.현황 == \"결항\")])\n",
    "H_8 = len(s[(s.계획 == 8) & (s.현황 == \"결항\")])\n",
    "H_9 = len(s[(s.계획 == 9) & (s.현황 == \"결항\")])\n",
    "H_10 = len(s[(s.계획 == 10) & (s.현황 == \"결항\")])\n",
    "H_11 = len(s[(s.계획 == 11) & (s.현황 == \"결항\")])\n",
    "H_12 = len(s[(s.계획 == 12) & (s.현황 == \"결항\")])\n",
    "H_13 = len(s[(s.계획 == 13) & (s.현황 == \"결항\")])\n",
    "H_14 = len(s[(s.계획 == 14) & (s.현황 == \"결항\")])\n",
    "H_15 = len(s[(s.계획 == 15) & (s.현황 == \"결항\")])\n",
    "H_16 = len(s[(s.계획 == 16) & (s.현황 == \"결항\")])\n",
    "H_17 = len(s[(s.계획 == 17) & (s.현황 == \"결항\")])\n",
    "H_18 = len(s[(s.계획 == 18) & (s.현황 == \"결항\")])\n",
    "H_19 = len(s[(s.계획 == 19) & (s.현황 == \"결항\")])\n",
    "H_20 = len(s[(s.계획 == 20) & (s.현황 == \"결항\")])\n",
    "H_21 = len(s[(s.계획 == 21) & (s.현황 == \"결항\")])\n",
    "H_12"
   ]
  },
  {
   "cell_type": "code",
   "execution_count": 72,
   "id": "752ece7f",
   "metadata": {},
   "outputs": [
    {
     "data": {
      "image/png": "[encoded data removed]",
      "text/plain": [
       "<Figure size 432x288 with 1 Axes>"
      ]
     },
     "metadata": {
      "needs_background": "light"
     },
     "output_type": "display_data"
    }
   ],
   "source": [
    "plt.plot(H, \n",
    "         [H_6, H_7, H_8, H_9, H_10, H_11, H_12, H_13, H_14, H_15, H_16, H_17, H_18, H_19, H_20, H_21],\n",
    "        marker = 'o')\n",
    "plt.show()"
   ]
  },
  {
   "cell_type": "markdown",
   "id": "8b6f25e1",
   "metadata": {},
   "source": [
    "#### 분석 결과\n",
    "---\n",
    "분석 결과, 다른 시간대에 비해 20시에서 월등히 높은 수치를 보였다. 결항은 기상의 영향을 많이 받지만, 시간대와 날씨가 연관성을 보인다고 단정 지을 수 없기 때문에 20시에 결항이 높은 것에 대한 요인을 꼽을 수 없는 상황이다. 그렇지만, 다음날 일정이 있어 저녁에 항공편을 이용해야 하는 이용객은 일정 수립 시에 주의할 필요가 있다. "
   ]
  }
 ],
 "metadata": {
  "kernelspec": {
   "display_name": "Python 3 (ipykernel)",
   "language": "python",
   "name": "python3"
  },
  "language_info": {
   "codemirror_mode": {
    "name": "ipython",
    "version": 3
   },
   "file_extension": ".py",
   "mimetype": "text/x-python",
   "name": "python",
   "nbconvert_exporter": "python",
   "pygments_lexer": "ipython3",
   "version": "3.9.7"
  }
 },
 "nbformat": 4,
 "nbformat_minor": 5
}
